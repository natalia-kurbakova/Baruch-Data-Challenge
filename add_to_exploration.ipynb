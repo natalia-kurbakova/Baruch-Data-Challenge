{
  "nbformat": 4,
  "nbformat_minor": 0,
  "metadata": {
    "colab": {
      "name": "add-to-exploration.ipynb",
      "provenance": [],
      "authorship_tag": "ABX9TyPG8jAP5DaDhtzWvAp/LaCF",
      "include_colab_link": true
    },
    "kernelspec": {
      "name": "python3",
      "display_name": "Python 3"
    },
    "language_info": {
      "name": "python"
    }
  },
  "cells": [
    {
      "cell_type": "markdown",
      "metadata": {
        "id": "view-in-github",
        "colab_type": "text"
      },
      "source": [
        "<a href=\"https://colab.research.google.com/github/natalia-kurbakova/Baruch-Data-Challenge/blob/main/add_to_exploration.ipynb\" target=\"_parent\"><img src=\"https://colab.research.google.com/assets/colab-badge.svg\" alt=\"Open In Colab\"/></a>"
      ]
    },
    {
      "cell_type": "code",
      "execution_count": 31,
      "metadata": {
        "id": "u2N-mUz_UQk-"
      },
      "outputs": [],
      "source": [
        "import numpy as np\n",
        "import pandas as pd\n",
        "import matplotlib.pyplot as plt\n",
        "import seaborn as sns\n",
        "import datetime as dt"
      ]
    },
    {
      "cell_type": "code",
      "source": [
        "#loading data\n",
        "train = pd.read_csv(\"train updated 04132022.csv\")\n",
        "\n",
        "#set option to display columns and rows of the dataframe fully\n",
        "pd.set_option('display.max_columns', None)\n",
        "pd.set_option('display.max_rows', None)"
      ],
      "metadata": {
        "id": "cC-OfWj9U1tR"
      },
      "execution_count": 3,
      "outputs": []
    },
    {
      "cell_type": "code",
      "source": [
        "#creatig a dataframe\n",
        "train = pd.DataFrame(train)"
      ],
      "metadata": {
        "id": "uQdBvutPVEGP"
      },
      "execution_count": 7,
      "outputs": []
    },
    {
      "cell_type": "code",
      "source": [
        "train['charging_rate_lag4'] = train['charging_rate_lag4'].abs()\n",
        "train['discharging_rate_lag4'] = train['discharging_rate_lag4'].abs()\n",
        "train['discharging_rate_lag3'] = train['discharging_rate_lag3'].abs()\n",
        "train['charging_rate_lag3'] = train['charging_rate_lag3'].abs()"
      ],
      "metadata": {
        "id": "XxBEbfRfgbpC"
      },
      "execution_count": 8,
      "outputs": []
    },
    {
      "cell_type": "markdown",
      "source": [
        "# VIZUALIZATION"
      ],
      "metadata": {
        "id": "vTaOpaJ5bxEJ"
      }
    },
    {
      "cell_type": "code",
      "source": [
        "#changing the datetime format in Date Deployed --- adding dashes to date!\n",
        "train['Date Deployed'] = pd.to_datetime(train['Date Deployed']).dt.strftime('%Y-%m-%d')\n",
        "years=[]\n",
        "months=[]\n",
        "\n",
        "for dates in train['Date Deployed']:\n",
        "    dates[1].lstrip('0')\n",
        "    dates = dates.split(\"-\")\n",
        "    year = int(dates[0])\n",
        "    month = int(dates[1])\n",
        "    years.append(year)\n",
        "    months.append(month)\n",
        "\n",
        "train['Year Deployed'] = years\n",
        "train['Month Deployed'] = months"
      ],
      "metadata": {
        "id": "cou3sYmEkSBZ"
      },
      "execution_count": 23,
      "outputs": []
    },
    {
      "cell_type": "code",
      "source": [
        "# last record == april 1st 2021\n",
        "# calculate age of battery in months: 2021 - year deployed, times 12, plus 4 (april is the fourth month), substract month deployed\n",
        "train['age_of_battery'] = (12*(2021 - train['Year Deployed']) + 4) - train['Month Deployed']\n",
        "train.sample(n=5)"
      ],
      "metadata": {
        "colab": {
          "base_uri": "https://localhost:8080/",
          "height": 287
        },
        "id": "_Os5Gvnbkkl7",
        "outputId": "8e22a660-af2a-4ca9-aca6-229dca85d727"
      },
      "execution_count": 62,
      "outputs": [
        {
          "output_type": "execute_result",
          "data": {
            "text/plain": [
              "       deviceid  avg_time_charging_lag1  avg_time_charging_lag2  \\\n",
              "27965     36149                   30.91                   20.40   \n",
              "1145       9811                    5.57                   18.64   \n",
              "7137      21399                   12.34                   20.18   \n",
              "12368     29147                    5.06                   43.07   \n",
              "39517     41159                    5.01                    6.12   \n",
              "\n",
              "       avg_time_charging_lag3  avg_time_charging_lag7  charging_rate_lag3  \\\n",
              "27965                   11.24                   32.19            0.166667   \n",
              "1145                     4.95                   41.23            0.716667   \n",
              "7137                    29.55                    4.86            0.080000   \n",
              "12368                   35.96                   29.24            0.010000   \n",
              "39517                   34.02                   22.25            1.286667   \n",
              "\n",
              "       charging_rate_lag7  avg_time_discharging_lag1  \\\n",
              "27965            0.246667                      50.87   \n",
              "1145             0.270000                       6.14   \n",
              "7137             0.006667                      16.05   \n",
              "12368            0.906667                       3.11   \n",
              "39517           -0.046667                       3.44   \n",
              "\n",
              "       avg_time_discharging_lag2  avg_time_discharging_lag3  \\\n",
              "27965                      38.92                      14.88   \n",
              "1145                       27.30                       3.21   \n",
              "7137                       29.24                      55.89   \n",
              "12368                      85.27                      74.44   \n",
              "39517                       4.31                      67.62   \n",
              "\n",
              "       avg_time_discharging_lag7  discharging_rate_lag3  \\\n",
              "27965                      65.91               0.153333   \n",
              "1145                       51.56               0.030000   \n",
              "7137                        4.28               0.026667   \n",
              "12368                      44.72               0.100000   \n",
              "39517                      36.67               2.250000   \n",
              "\n",
              "       discharging_rate_lag7  fail_7  charge_cycle_time_below_12  \\\n",
              "27965              -0.093333       0                       False   \n",
              "1145                0.616667       1                       False   \n",
              "7137                0.000000       0                        True   \n",
              "12368              -0.503333       0                        True   \n",
              "39517              -0.006667       0                       False   \n",
              "\n",
              "       avg_time_charging_lag4  avg_time_discharging_lag4  \\\n",
              "27965                    6.92                       5.72   \n",
              "1145                    27.37                      45.93   \n",
              "7137                     6.19                       5.27   \n",
              "12368                   35.62                      73.32   \n",
              "39517                    4.64                       3.55   \n",
              "\n",
              "       avg_time_charging_lag5  avg_time_discharging_lag5  \\\n",
              "27965                   17.06                      24.78   \n",
              "1145                     5.00                       5.54   \n",
              "7137                     6.19                       5.95   \n",
              "12368                   33.92                      52.82   \n",
              "39517                    4.81                       4.01   \n",
              "\n",
              "       avg_time_charging_lag6  avg_time_discharging_lag6  \\\n",
              "27965                    4.35                       4.22   \n",
              "1145                    14.59                      28.77   \n",
              "7137                     4.41                       4.13   \n",
              "12368                   27.12                      44.56   \n",
              "39517                    4.94                       3.53   \n",
              "\n",
              "       avg_time_charging_lag8  avg_time_discharging_lag8  \\\n",
              "27965                    4.66                       4.40   \n",
              "1145                     5.42                       5.74   \n",
              "7137                     4.67                       3.97   \n",
              "12368                    5.68                       5.81   \n",
              "39517                    4.65                       4.10   \n",
              "\n",
              "       avg_time_charging_lag9  avg_time_discharging_lag9  \\\n",
              "27965                   41.33                      81.21   \n",
              "1145                     6.29                       5.59   \n",
              "7137                     4.86                       3.77   \n",
              "12368                    5.27                       5.14   \n",
              "39517                    4.47                       4.13   \n",
              "\n",
              "       avg_time_charging_lag10  avg_time_discharging_lag10  \\\n",
              "27965                     5.19                        6.16   \n",
              "1145                     34.72                       66.86   \n",
              "7137                      4.41                        4.14   \n",
              "12368                     5.82                       24.87   \n",
              "39517                    30.80                       53.57   \n",
              "\n",
              "       avg_time_charging_lag11  avg_time_discharging_lag11  \\\n",
              "27965                    34.14                       70.34   \n",
              "1145                      4.98                        3.24   \n",
              "7137                      6.16                        5.06   \n",
              "12368                    28.94                       46.57   \n",
              "39517                    17.18                       23.00   \n",
              "\n",
              "       avg_time_charging_lag12  avg_time_discharging_lag12  \\\n",
              "27965                    31.48                       48.31   \n",
              "1145                      6.54                        7.26   \n",
              "7137                      5.02                        5.21   \n",
              "12368                     4.84                        3.74   \n",
              "39517                     4.45                        4.21   \n",
              "\n",
              "       avg_time_charging_lag13  avg_time_discharging_lag13  \\\n",
              "27965                     4.65                        3.69   \n",
              "1145                      4.40                        4.13   \n",
              "7137                      4.78                        4.13   \n",
              "12368                    16.87                       24.23   \n",
              "39517                     4.96                        4.49   \n",
              "\n",
              "       avg_time_charging_lag14  avg_time_discharging_lag14  \\\n",
              "27965                     4.67                        4.19   \n",
              "1145                      6.19                        9.71   \n",
              "7137                      5.03                        5.82   \n",
              "12368                     6.08                        5.93   \n",
              "39517                     4.65                        3.71   \n",
              "\n",
              "       discharging_rate_lag4  discharging_rate_lag5  discharging_rate_lag6  \\\n",
              "27965               0.520000               1.253333              -2.026667   \n",
              "1145                0.046667               1.633333              -0.480000   \n",
              "7137                0.783333              -1.763333              -0.520000   \n",
              "12368               0.016667              -0.700000               1.083333   \n",
              "39517               0.023333              -0.040000              -0.156667   \n",
              "\n",
              "       discharging_rate_lag8  charging_rate_lag4  charging_rate_lag5  \\\n",
              "27965              -0.103333            0.306667           -0.106667   \n",
              "1145               -0.036667            0.040000            0.950000   \n",
              "7137                0.043333            0.400000           -0.923333   \n",
              "12368              -0.406667            0.016667           -0.486667   \n",
              "39517              -0.013333            0.003333           -0.113333   \n",
              "\n",
              "       charging_rate_lag6  chargecycles  dischargecycles  total_off_time  \\\n",
              "27965           -0.616667     63.875000        63.812500        3.125000   \n",
              "1145            -0.053333     83.187500        83.250000       56.500000   \n",
              "7137            -0.783333     96.900000        96.900000       12.400000   \n",
              "12368           -0.310000     67.052632        66.947368       19.578947   \n",
              "39517            0.036667    108.470588       108.588235       31.117647   \n",
              "\n",
              "       number_times_restart  avg_volt_change_charging  \\\n",
              "27965              0.937500                354.359375   \n",
              "1145               4.812500                376.988750   \n",
              "7137               0.966667                346.755667   \n",
              "12368              4.473684                355.022105   \n",
              "39517              0.705882                365.322941   \n",
              "\n",
              "       avg_volt_change_discharging  avg_time_charging  avg_time_discharging  \\\n",
              "27965                   353.133750          17.989375             30.204375   \n",
              "1145                    374.228125          14.348750             21.651250   \n",
              "7137                    345.657667          13.892667             22.416333   \n",
              "12368                   352.891579          19.183684             32.425263   \n",
              "39517                   363.818824          11.012941             15.741176   \n",
              "\n",
              "       max_voltage_day  piececount  cycle_time LastRecord Date Deployed  \\\n",
              "27965      4160.187500   14.857143   48.193750     4/1/21    2019-09-01   \n",
              "1145       4189.312500   10.777778   36.000000     4/1/21    2019-11-14   \n",
              "7137       4160.866667   20.388889   36.309000     4/1/21    2019-09-26   \n",
              "12368      4162.684211   25.666667   51.608947     4/1/21    2019-09-15   \n",
              "39517      4175.941176    9.416667   26.754118     4/1/21    2019-09-05   \n",
              "\n",
              "       Year Deployed  Month Deployed  age_of_battery  \n",
              "27965           2019               9              19  \n",
              "1145            2019              11              17  \n",
              "7137            2019               9              19  \n",
              "12368           2019               9              19  \n",
              "39517           2019               9              19  "
            ],
            "text/html": [
              "\n",
              "  <div id=\"df-0e2d1f0e-effa-45dc-abba-7f23a2bb5bfa\">\n",
              "    <div class=\"colab-df-container\">\n",
              "      <div>\n",
              "<style scoped>\n",
              "    .dataframe tbody tr th:only-of-type {\n",
              "        vertical-align: middle;\n",
              "    }\n",
              "\n",
              "    .dataframe tbody tr th {\n",
              "        vertical-align: top;\n",
              "    }\n",
              "\n",
              "    .dataframe thead th {\n",
              "        text-align: right;\n",
              "    }\n",
              "</style>\n",
              "<table border=\"1\" class=\"dataframe\">\n",
              "  <thead>\n",
              "    <tr style=\"text-align: right;\">\n",
              "      <th></th>\n",
              "      <th>deviceid</th>\n",
              "      <th>avg_time_charging_lag1</th>\n",
              "      <th>avg_time_charging_lag2</th>\n",
              "      <th>avg_time_charging_lag3</th>\n",
              "      <th>avg_time_charging_lag7</th>\n",
              "      <th>charging_rate_lag3</th>\n",
              "      <th>charging_rate_lag7</th>\n",
              "      <th>avg_time_discharging_lag1</th>\n",
              "      <th>avg_time_discharging_lag2</th>\n",
              "      <th>avg_time_discharging_lag3</th>\n",
              "      <th>avg_time_discharging_lag7</th>\n",
              "      <th>discharging_rate_lag3</th>\n",
              "      <th>discharging_rate_lag7</th>\n",
              "      <th>fail_7</th>\n",
              "      <th>charge_cycle_time_below_12</th>\n",
              "      <th>avg_time_charging_lag4</th>\n",
              "      <th>avg_time_discharging_lag4</th>\n",
              "      <th>avg_time_charging_lag5</th>\n",
              "      <th>avg_time_discharging_lag5</th>\n",
              "      <th>avg_time_charging_lag6</th>\n",
              "      <th>avg_time_discharging_lag6</th>\n",
              "      <th>avg_time_charging_lag8</th>\n",
              "      <th>avg_time_discharging_lag8</th>\n",
              "      <th>avg_time_charging_lag9</th>\n",
              "      <th>avg_time_discharging_lag9</th>\n",
              "      <th>avg_time_charging_lag10</th>\n",
              "      <th>avg_time_discharging_lag10</th>\n",
              "      <th>avg_time_charging_lag11</th>\n",
              "      <th>avg_time_discharging_lag11</th>\n",
              "      <th>avg_time_charging_lag12</th>\n",
              "      <th>avg_time_discharging_lag12</th>\n",
              "      <th>avg_time_charging_lag13</th>\n",
              "      <th>avg_time_discharging_lag13</th>\n",
              "      <th>avg_time_charging_lag14</th>\n",
              "      <th>avg_time_discharging_lag14</th>\n",
              "      <th>discharging_rate_lag4</th>\n",
              "      <th>discharging_rate_lag5</th>\n",
              "      <th>discharging_rate_lag6</th>\n",
              "      <th>discharging_rate_lag8</th>\n",
              "      <th>charging_rate_lag4</th>\n",
              "      <th>charging_rate_lag5</th>\n",
              "      <th>charging_rate_lag6</th>\n",
              "      <th>chargecycles</th>\n",
              "      <th>dischargecycles</th>\n",
              "      <th>total_off_time</th>\n",
              "      <th>number_times_restart</th>\n",
              "      <th>avg_volt_change_charging</th>\n",
              "      <th>avg_volt_change_discharging</th>\n",
              "      <th>avg_time_charging</th>\n",
              "      <th>avg_time_discharging</th>\n",
              "      <th>max_voltage_day</th>\n",
              "      <th>piececount</th>\n",
              "      <th>cycle_time</th>\n",
              "      <th>LastRecord</th>\n",
              "      <th>Date Deployed</th>\n",
              "      <th>Year Deployed</th>\n",
              "      <th>Month Deployed</th>\n",
              "      <th>age_of_battery</th>\n",
              "    </tr>\n",
              "  </thead>\n",
              "  <tbody>\n",
              "    <tr>\n",
              "      <th>27965</th>\n",
              "      <td>36149</td>\n",
              "      <td>30.91</td>\n",
              "      <td>20.40</td>\n",
              "      <td>11.24</td>\n",
              "      <td>32.19</td>\n",
              "      <td>0.166667</td>\n",
              "      <td>0.246667</td>\n",
              "      <td>50.87</td>\n",
              "      <td>38.92</td>\n",
              "      <td>14.88</td>\n",
              "      <td>65.91</td>\n",
              "      <td>0.153333</td>\n",
              "      <td>-0.093333</td>\n",
              "      <td>0</td>\n",
              "      <td>False</td>\n",
              "      <td>6.92</td>\n",
              "      <td>5.72</td>\n",
              "      <td>17.06</td>\n",
              "      <td>24.78</td>\n",
              "      <td>4.35</td>\n",
              "      <td>4.22</td>\n",
              "      <td>4.66</td>\n",
              "      <td>4.40</td>\n",
              "      <td>41.33</td>\n",
              "      <td>81.21</td>\n",
              "      <td>5.19</td>\n",
              "      <td>6.16</td>\n",
              "      <td>34.14</td>\n",
              "      <td>70.34</td>\n",
              "      <td>31.48</td>\n",
              "      <td>48.31</td>\n",
              "      <td>4.65</td>\n",
              "      <td>3.69</td>\n",
              "      <td>4.67</td>\n",
              "      <td>4.19</td>\n",
              "      <td>0.520000</td>\n",
              "      <td>1.253333</td>\n",
              "      <td>-2.026667</td>\n",
              "      <td>-0.103333</td>\n",
              "      <td>0.306667</td>\n",
              "      <td>-0.106667</td>\n",
              "      <td>-0.616667</td>\n",
              "      <td>63.875000</td>\n",
              "      <td>63.812500</td>\n",
              "      <td>3.125000</td>\n",
              "      <td>0.937500</td>\n",
              "      <td>354.359375</td>\n",
              "      <td>353.133750</td>\n",
              "      <td>17.989375</td>\n",
              "      <td>30.204375</td>\n",
              "      <td>4160.187500</td>\n",
              "      <td>14.857143</td>\n",
              "      <td>48.193750</td>\n",
              "      <td>4/1/21</td>\n",
              "      <td>2019-09-01</td>\n",
              "      <td>2019</td>\n",
              "      <td>9</td>\n",
              "      <td>19</td>\n",
              "    </tr>\n",
              "    <tr>\n",
              "      <th>1145</th>\n",
              "      <td>9811</td>\n",
              "      <td>5.57</td>\n",
              "      <td>18.64</td>\n",
              "      <td>4.95</td>\n",
              "      <td>41.23</td>\n",
              "      <td>0.716667</td>\n",
              "      <td>0.270000</td>\n",
              "      <td>6.14</td>\n",
              "      <td>27.30</td>\n",
              "      <td>3.21</td>\n",
              "      <td>51.56</td>\n",
              "      <td>0.030000</td>\n",
              "      <td>0.616667</td>\n",
              "      <td>1</td>\n",
              "      <td>False</td>\n",
              "      <td>27.37</td>\n",
              "      <td>45.93</td>\n",
              "      <td>5.00</td>\n",
              "      <td>5.54</td>\n",
              "      <td>14.59</td>\n",
              "      <td>28.77</td>\n",
              "      <td>5.42</td>\n",
              "      <td>5.74</td>\n",
              "      <td>6.29</td>\n",
              "      <td>5.59</td>\n",
              "      <td>34.72</td>\n",
              "      <td>66.86</td>\n",
              "      <td>4.98</td>\n",
              "      <td>3.24</td>\n",
              "      <td>6.54</td>\n",
              "      <td>7.26</td>\n",
              "      <td>4.40</td>\n",
              "      <td>4.13</td>\n",
              "      <td>6.19</td>\n",
              "      <td>9.71</td>\n",
              "      <td>0.046667</td>\n",
              "      <td>1.633333</td>\n",
              "      <td>-0.480000</td>\n",
              "      <td>-0.036667</td>\n",
              "      <td>0.040000</td>\n",
              "      <td>0.950000</td>\n",
              "      <td>-0.053333</td>\n",
              "      <td>83.187500</td>\n",
              "      <td>83.250000</td>\n",
              "      <td>56.500000</td>\n",
              "      <td>4.812500</td>\n",
              "      <td>376.988750</td>\n",
              "      <td>374.228125</td>\n",
              "      <td>14.348750</td>\n",
              "      <td>21.651250</td>\n",
              "      <td>4189.312500</td>\n",
              "      <td>10.777778</td>\n",
              "      <td>36.000000</td>\n",
              "      <td>4/1/21</td>\n",
              "      <td>2019-11-14</td>\n",
              "      <td>2019</td>\n",
              "      <td>11</td>\n",
              "      <td>17</td>\n",
              "    </tr>\n",
              "    <tr>\n",
              "      <th>7137</th>\n",
              "      <td>21399</td>\n",
              "      <td>12.34</td>\n",
              "      <td>20.18</td>\n",
              "      <td>29.55</td>\n",
              "      <td>4.86</td>\n",
              "      <td>0.080000</td>\n",
              "      <td>0.006667</td>\n",
              "      <td>16.05</td>\n",
              "      <td>29.24</td>\n",
              "      <td>55.89</td>\n",
              "      <td>4.28</td>\n",
              "      <td>0.026667</td>\n",
              "      <td>0.000000</td>\n",
              "      <td>0</td>\n",
              "      <td>True</td>\n",
              "      <td>6.19</td>\n",
              "      <td>5.27</td>\n",
              "      <td>6.19</td>\n",
              "      <td>5.95</td>\n",
              "      <td>4.41</td>\n",
              "      <td>4.13</td>\n",
              "      <td>4.67</td>\n",
              "      <td>3.97</td>\n",
              "      <td>4.86</td>\n",
              "      <td>3.77</td>\n",
              "      <td>4.41</td>\n",
              "      <td>4.14</td>\n",
              "      <td>6.16</td>\n",
              "      <td>5.06</td>\n",
              "      <td>5.02</td>\n",
              "      <td>5.21</td>\n",
              "      <td>4.78</td>\n",
              "      <td>4.13</td>\n",
              "      <td>5.03</td>\n",
              "      <td>5.82</td>\n",
              "      <td>0.783333</td>\n",
              "      <td>-1.763333</td>\n",
              "      <td>-0.520000</td>\n",
              "      <td>0.043333</td>\n",
              "      <td>0.400000</td>\n",
              "      <td>-0.923333</td>\n",
              "      <td>-0.783333</td>\n",
              "      <td>96.900000</td>\n",
              "      <td>96.900000</td>\n",
              "      <td>12.400000</td>\n",
              "      <td>0.966667</td>\n",
              "      <td>346.755667</td>\n",
              "      <td>345.657667</td>\n",
              "      <td>13.892667</td>\n",
              "      <td>22.416333</td>\n",
              "      <td>4160.866667</td>\n",
              "      <td>20.388889</td>\n",
              "      <td>36.309000</td>\n",
              "      <td>4/1/21</td>\n",
              "      <td>2019-09-26</td>\n",
              "      <td>2019</td>\n",
              "      <td>9</td>\n",
              "      <td>19</td>\n",
              "    </tr>\n",
              "    <tr>\n",
              "      <th>12368</th>\n",
              "      <td>29147</td>\n",
              "      <td>5.06</td>\n",
              "      <td>43.07</td>\n",
              "      <td>35.96</td>\n",
              "      <td>29.24</td>\n",
              "      <td>0.010000</td>\n",
              "      <td>0.906667</td>\n",
              "      <td>3.11</td>\n",
              "      <td>85.27</td>\n",
              "      <td>74.44</td>\n",
              "      <td>44.72</td>\n",
              "      <td>0.100000</td>\n",
              "      <td>-0.503333</td>\n",
              "      <td>0</td>\n",
              "      <td>True</td>\n",
              "      <td>35.62</td>\n",
              "      <td>73.32</td>\n",
              "      <td>33.92</td>\n",
              "      <td>52.82</td>\n",
              "      <td>27.12</td>\n",
              "      <td>44.56</td>\n",
              "      <td>5.68</td>\n",
              "      <td>5.81</td>\n",
              "      <td>5.27</td>\n",
              "      <td>5.14</td>\n",
              "      <td>5.82</td>\n",
              "      <td>24.87</td>\n",
              "      <td>28.94</td>\n",
              "      <td>46.57</td>\n",
              "      <td>4.84</td>\n",
              "      <td>3.74</td>\n",
              "      <td>16.87</td>\n",
              "      <td>24.23</td>\n",
              "      <td>6.08</td>\n",
              "      <td>5.93</td>\n",
              "      <td>0.016667</td>\n",
              "      <td>-0.700000</td>\n",
              "      <td>1.083333</td>\n",
              "      <td>-0.406667</td>\n",
              "      <td>0.016667</td>\n",
              "      <td>-0.486667</td>\n",
              "      <td>-0.310000</td>\n",
              "      <td>67.052632</td>\n",
              "      <td>66.947368</td>\n",
              "      <td>19.578947</td>\n",
              "      <td>4.473684</td>\n",
              "      <td>355.022105</td>\n",
              "      <td>352.891579</td>\n",
              "      <td>19.183684</td>\n",
              "      <td>32.425263</td>\n",
              "      <td>4162.684211</td>\n",
              "      <td>25.666667</td>\n",
              "      <td>51.608947</td>\n",
              "      <td>4/1/21</td>\n",
              "      <td>2019-09-15</td>\n",
              "      <td>2019</td>\n",
              "      <td>9</td>\n",
              "      <td>19</td>\n",
              "    </tr>\n",
              "    <tr>\n",
              "      <th>39517</th>\n",
              "      <td>41159</td>\n",
              "      <td>5.01</td>\n",
              "      <td>6.12</td>\n",
              "      <td>34.02</td>\n",
              "      <td>22.25</td>\n",
              "      <td>1.286667</td>\n",
              "      <td>-0.046667</td>\n",
              "      <td>3.44</td>\n",
              "      <td>4.31</td>\n",
              "      <td>67.62</td>\n",
              "      <td>36.67</td>\n",
              "      <td>2.250000</td>\n",
              "      <td>-0.006667</td>\n",
              "      <td>0</td>\n",
              "      <td>False</td>\n",
              "      <td>4.64</td>\n",
              "      <td>3.55</td>\n",
              "      <td>4.81</td>\n",
              "      <td>4.01</td>\n",
              "      <td>4.94</td>\n",
              "      <td>3.53</td>\n",
              "      <td>4.65</td>\n",
              "      <td>4.10</td>\n",
              "      <td>4.47</td>\n",
              "      <td>4.13</td>\n",
              "      <td>30.80</td>\n",
              "      <td>53.57</td>\n",
              "      <td>17.18</td>\n",
              "      <td>23.00</td>\n",
              "      <td>4.45</td>\n",
              "      <td>4.21</td>\n",
              "      <td>4.96</td>\n",
              "      <td>4.49</td>\n",
              "      <td>4.65</td>\n",
              "      <td>3.71</td>\n",
              "      <td>0.023333</td>\n",
              "      <td>-0.040000</td>\n",
              "      <td>-0.156667</td>\n",
              "      <td>-0.013333</td>\n",
              "      <td>0.003333</td>\n",
              "      <td>-0.113333</td>\n",
              "      <td>0.036667</td>\n",
              "      <td>108.470588</td>\n",
              "      <td>108.588235</td>\n",
              "      <td>31.117647</td>\n",
              "      <td>0.705882</td>\n",
              "      <td>365.322941</td>\n",
              "      <td>363.818824</td>\n",
              "      <td>11.012941</td>\n",
              "      <td>15.741176</td>\n",
              "      <td>4175.941176</td>\n",
              "      <td>9.416667</td>\n",
              "      <td>26.754118</td>\n",
              "      <td>4/1/21</td>\n",
              "      <td>2019-09-05</td>\n",
              "      <td>2019</td>\n",
              "      <td>9</td>\n",
              "      <td>19</td>\n",
              "    </tr>\n",
              "  </tbody>\n",
              "</table>\n",
              "</div>\n",
              "      <button class=\"colab-df-convert\" onclick=\"convertToInteractive('df-0e2d1f0e-effa-45dc-abba-7f23a2bb5bfa')\"\n",
              "              title=\"Convert this dataframe to an interactive table.\"\n",
              "              style=\"display:none;\">\n",
              "        \n",
              "  <svg xmlns=\"http://www.w3.org/2000/svg\" height=\"24px\"viewBox=\"0 0 24 24\"\n",
              "       width=\"24px\">\n",
              "    <path d=\"M0 0h24v24H0V0z\" fill=\"none\"/>\n",
              "    <path d=\"M18.56 5.44l.94 2.06.94-2.06 2.06-.94-2.06-.94-.94-2.06-.94 2.06-2.06.94zm-11 1L8.5 8.5l.94-2.06 2.06-.94-2.06-.94L8.5 2.5l-.94 2.06-2.06.94zm10 10l.94 2.06.94-2.06 2.06-.94-2.06-.94-.94-2.06-.94 2.06-2.06.94z\"/><path d=\"M17.41 7.96l-1.37-1.37c-.4-.4-.92-.59-1.43-.59-.52 0-1.04.2-1.43.59L10.3 9.45l-7.72 7.72c-.78.78-.78 2.05 0 2.83L4 21.41c.39.39.9.59 1.41.59.51 0 1.02-.2 1.41-.59l7.78-7.78 2.81-2.81c.8-.78.8-2.07 0-2.86zM5.41 20L4 18.59l7.72-7.72 1.47 1.35L5.41 20z\"/>\n",
              "  </svg>\n",
              "      </button>\n",
              "      \n",
              "  <style>\n",
              "    .colab-df-container {\n",
              "      display:flex;\n",
              "      flex-wrap:wrap;\n",
              "      gap: 12px;\n",
              "    }\n",
              "\n",
              "    .colab-df-convert {\n",
              "      background-color: #E8F0FE;\n",
              "      border: none;\n",
              "      border-radius: 50%;\n",
              "      cursor: pointer;\n",
              "      display: none;\n",
              "      fill: #1967D2;\n",
              "      height: 32px;\n",
              "      padding: 0 0 0 0;\n",
              "      width: 32px;\n",
              "    }\n",
              "\n",
              "    .colab-df-convert:hover {\n",
              "      background-color: #E2EBFA;\n",
              "      box-shadow: 0px 1px 2px rgba(60, 64, 67, 0.3), 0px 1px 3px 1px rgba(60, 64, 67, 0.15);\n",
              "      fill: #174EA6;\n",
              "    }\n",
              "\n",
              "    [theme=dark] .colab-df-convert {\n",
              "      background-color: #3B4455;\n",
              "      fill: #D2E3FC;\n",
              "    }\n",
              "\n",
              "    [theme=dark] .colab-df-convert:hover {\n",
              "      background-color: #434B5C;\n",
              "      box-shadow: 0px 1px 3px 1px rgba(0, 0, 0, 0.15);\n",
              "      filter: drop-shadow(0px 1px 2px rgba(0, 0, 0, 0.3));\n",
              "      fill: #FFFFFF;\n",
              "    }\n",
              "  </style>\n",
              "\n",
              "      <script>\n",
              "        const buttonEl =\n",
              "          document.querySelector('#df-0e2d1f0e-effa-45dc-abba-7f23a2bb5bfa button.colab-df-convert');\n",
              "        buttonEl.style.display =\n",
              "          google.colab.kernel.accessAllowed ? 'block' : 'none';\n",
              "\n",
              "        async function convertToInteractive(key) {\n",
              "          const element = document.querySelector('#df-0e2d1f0e-effa-45dc-abba-7f23a2bb5bfa');\n",
              "          const dataTable =\n",
              "            await google.colab.kernel.invokeFunction('convertToInteractive',\n",
              "                                                     [key], {});\n",
              "          if (!dataTable) return;\n",
              "\n",
              "          const docLinkHtml = 'Like what you see? Visit the ' +\n",
              "            '<a target=\"_blank\" href=https://colab.research.google.com/notebooks/data_table.ipynb>data table notebook</a>'\n",
              "            + ' to learn more about interactive tables.';\n",
              "          element.innerHTML = '';\n",
              "          dataTable['output_type'] = 'display_data';\n",
              "          await google.colab.output.renderOutput(dataTable, element);\n",
              "          const docLink = document.createElement('div');\n",
              "          docLink.innerHTML = docLinkHtml;\n",
              "          element.appendChild(docLink);\n",
              "        }\n",
              "      </script>\n",
              "    </div>\n",
              "  </div>\n",
              "  "
            ]
          },
          "metadata": {},
          "execution_count": 62
        }
      ]
    },
    {
      "cell_type": "code",
      "source": [
        "train['delta_discharging_rate'] = (train['discharging_rate_lag3'] - train['discharging_rate_lag4'])/train['discharging_rate_lag4']"
      ],
      "metadata": {
        "id": "xj88Yb9Zom42"
      },
      "execution_count": 101,
      "outputs": []
    },
    {
      "cell_type": "code",
      "source": [
        "train['delta_charging_rate'] = (train['charging_rate_lag3'] - train['charging_rate_lag4'])/train['charging_rate_lag4']"
      ],
      "metadata": {
        "id": "SD-X-6dmnLYJ"
      },
      "execution_count": 102,
      "outputs": []
    },
    {
      "cell_type": "code",
      "source": [
        "#devices that failed\n",
        "failed_true = train[train['fail_7']==1]"
      ],
      "metadata": {
        "id": "6jNtT3LFVHUm"
      },
      "execution_count": 26,
      "outputs": []
    },
    {
      "cell_type": "code",
      "source": [
        "fail_7_count = failed_true.count().max()\n",
        "fail_7_count"
      ],
      "metadata": {
        "colab": {
          "base_uri": "https://localhost:8080/"
        },
        "id": "1sH7njvSavxN",
        "outputId": "34ec342f-f792-4b89-9b2c-00d67d2b0cc5"
      },
      "execution_count": 63,
      "outputs": [
        {
          "output_type": "execute_result",
          "data": {
            "text/plain": [
              "9401"
            ]
          },
          "metadata": {},
          "execution_count": 63
        }
      ]
    },
    {
      "cell_type": "code",
      "source": [
        "age_categories = train['age_of_battery'].unique()\n",
        "age_categories"
      ],
      "metadata": {
        "colab": {
          "base_uri": "https://localhost:8080/"
        },
        "id": "pHZhq4_vYTi7",
        "outputId": "d909d67b-8366-4f72-adfd-810fcc3a3399"
      },
      "execution_count": 46,
      "outputs": [
        {
          "output_type": "execute_result",
          "data": {
            "text/plain": [
              "array([18, 19, 17, 20, 16, 15, 14])"
            ]
          },
          "metadata": {},
          "execution_count": 46
        }
      ]
    },
    {
      "cell_type": "code",
      "source": [
        "sns.set_palette('RdBu_r')\n",
        "sns.countplot(data=train, x='age_of_battery')"
      ],
      "metadata": {
        "colab": {
          "base_uri": "https://localhost:8080/",
          "height": 297
        },
        "id": "JUVo_22ubBV5",
        "outputId": "0641d1d4-c80f-4cb2-b86e-96cfbd182890"
      },
      "execution_count": 77,
      "outputs": [
        {
          "output_type": "execute_result",
          "data": {
            "text/plain": [
              "<matplotlib.axes._subplots.AxesSubplot at 0x7fbcd8ea8a90>"
            ]
          },
          "metadata": {},
          "execution_count": 77
        },
        {
          "output_type": "display_data",
          "data": {
            "text/plain": [
              "<Figure size 432x288 with 1 Axes>"
            ],
            "image/png": "[encoded data removed]"
          },
          "metadata": {
            "needs_background": "light"
          }
        }
      ]
    },
    {
      "cell_type": "code",
      "source": [
        "sns.countplot(data=failed_true, x='age_of_battery')\n",
        "plt.show()"
      ],
      "metadata": {
        "colab": {
          "base_uri": "https://localhost:8080/",
          "height": 280
        },
        "id": "OLQrsfdoWcER",
        "outputId": "ea6686e6-abd3-4732-b354-699aec114ed4"
      },
      "execution_count": 78,
      "outputs": [
        {
          "output_type": "display_data",
          "data": {
            "text/plain": [
              "<Figure size 432x288 with 1 Axes>"
            ],
            "image/png": "[encoded data removed]"
          },
          "metadata": {
            "needs_background": "light"
          }
        }
      ]
    },
    {
      "cell_type": "code",
      "source": [
        "sns.countplot(data=train, x='age_of_battery', hue='fail_7')"
      ],
      "metadata": {
        "colab": {
          "base_uri": "https://localhost:8080/",
          "height": 298
        },
        "id": "H9goxa0dew-i",
        "outputId": "9d5e7ad5-f73b-492d-93ac-a60f3e065ae6"
      },
      "execution_count": 79,
      "outputs": [
        {
          "output_type": "execute_result",
          "data": {
            "text/plain": [
              "<matplotlib.axes._subplots.AxesSubplot at 0x7fbcd7185910>"
            ]
          },
          "metadata": {},
          "execution_count": 79
        },
        {
          "output_type": "display_data",
          "data": {
            "text/plain": [
              "<Figure size 432x288 with 1 Axes>"
            ],
            "image/png": "[encoded data removed]"
          },
          "metadata": {
            "needs_background": "light"
          }
        }
      ]
    },
    {
      "cell_type": "code",
      "source": [
        "#devices that didn't fail yest - same size as failed_true\n",
        "failed_false = train[train['fail_7']==0].sample(n=fail_7_count)"
      ],
      "metadata": {
        "id": "33RvSeWFbE-9"
      },
      "execution_count": 105,
      "outputs": []
    },
    {
      "cell_type": "code",
      "source": [
        "df_different_size = pd.concat([failed_true,failed_false], ignore_index=True)"
      ],
      "metadata": {
        "id": "698SGyigcLN0"
      },
      "execution_count": 106,
      "outputs": []
    },
    {
      "cell_type": "code",
      "source": [
        "abnormal_cycle_time = train[train['charge_cycle_time_below_12']==True]\n",
        "normal_cycle_time = train[train['charge_cycle_time_below_12']==False]\n",
        "\n",
        "abnormal_cycle_time_failed = abnormal_cycle_time[abnormal_cycle_time['fail_7']==1]\n",
        "#abnormal_cycle_time_failed.sample(n=15)\n",
        "#abnormal_cycle_time.groupby('fail_7').count()\n",
        "#normal_cycle_time.groupby('fail_7').count()"
      ],
      "metadata": {
        "id": "rRk_ZW2GdLAi"
      },
      "execution_count": 74,
      "outputs": []
    },
    {
      "cell_type": "code",
      "source": [
        "sns.countplot(data=abnormal_cycle_time, x='age_of_battery')\n",
        "plt.show()"
      ],
      "metadata": {
        "colab": {
          "base_uri": "https://localhost:8080/",
          "height": 280
        },
        "id": "0VPwaFGUdfAF",
        "outputId": "1d8fd948-f0c9-4990-80f5-23d2bfdf7a10"
      },
      "execution_count": 80,
      "outputs": [
        {
          "output_type": "display_data",
          "data": {
            "text/plain": [
              "<Figure size 432x288 with 1 Axes>"
            ],
            "image/png": "[encoded data removed]"
          },
          "metadata": {
            "needs_background": "light"
          }
        }
      ]
    },
    {
      "cell_type": "code",
      "source": [
        "sns.countplot(data=abnormal_cycle_time_failed, x='age_of_battery')\n",
        "plt.show()"
      ],
      "metadata": {
        "colab": {
          "base_uri": "https://localhost:8080/",
          "height": 280
        },
        "id": "1VNnM1WndetV",
        "outputId": "4add5f97-4efb-4c55-cd8d-528aaee8069e"
      },
      "execution_count": 81,
      "outputs": [
        {
          "output_type": "display_data",
          "data": {
            "text/plain": [
              "<Figure size 432x288 with 1 Axes>"
            ],
            "image/png": "[encoded data removed]"
          },
          "metadata": {
            "needs_background": "light"
          }
        }
      ]
    },
    {
      "cell_type": "code",
      "source": [
        "sns.countplot(data=abnormal_cycle_time, x='age_of_battery', hue='fail_7')\n",
        "plt.show()"
      ],
      "metadata": {
        "colab": {
          "base_uri": "https://localhost:8080/",
          "height": 280
        },
        "id": "7T8cWSy2e43N",
        "outputId": "a2df9c38-2e80-437e-973f-388d9915a348"
      },
      "execution_count": 82,
      "outputs": [
        {
          "output_type": "display_data",
          "data": {
            "text/plain": [
              "<Figure size 432x288 with 1 Axes>"
            ],
            "image/png": "[encoded data removed]"
          },
          "metadata": {
            "needs_background": "light"
          }
        }
      ]
    },
    {
      "cell_type": "code",
      "source": [
        "custom_palette1 = ['#FF6900','#00D084']\n",
        "custom_palette2 = ['#FCB900','#0693E3']"
      ],
      "metadata": {
        "id": "c5PkvpNzdLPe"
      },
      "execution_count": 107,
      "outputs": []
    },
    {
      "cell_type": "markdown",
      "source": [
        "**for failed devices, the discharging rate decreases from 4 to 3 days pior to april first - see two plots below**"
      ],
      "metadata": {
        "id": "uDCx3nX8vzn6"
      }
    },
    {
      "cell_type": "code",
      "source": [
        "sns.set_palette(custom_palette1)\n",
        "sns.relplot(data=failed_true, x='charging_rate_lag4', y='discharging_rate_lag4', kind='scatter')\n",
        "plt.show()"
      ],
      "metadata": {
        "colab": {
          "base_uri": "https://localhost:8080/",
          "height": 370
        },
        "id": "fcrFD0gNUbfV",
        "outputId": "2b372c54-2217-40cb-d252-c44403366741"
      },
      "execution_count": 118,
      "outputs": [
        {
          "output_type": "display_data",
          "data": {
            "text/plain": [
              "<Figure size 360x360 with 1 Axes>"
            ],
            "image/png": "[encoded data removed]"
          },
          "metadata": {
            "needs_background": "light"
          }
        }
      ]
    },
    {
      "cell_type": "code",
      "source": [
        "sns.relplot(data=failed_true, x='charging_rate_lag3', y='discharging_rate_lag3', kind='scatter')\n",
        "plt.show()"
      ],
      "metadata": {
        "colab": {
          "base_uri": "https://localhost:8080/",
          "height": 370
        },
        "id": "rIUXN8fUUYuP",
        "outputId": "1284edaa-24ad-4ca9-ccd7-5a4226cc99aa"
      },
      "execution_count": 119,
      "outputs": [
        {
          "output_type": "display_data",
          "data": {
            "text/plain": [
              "<Figure size 360x360 with 1 Axes>"
            ],
            "image/png": "[encoded data removed]"
          },
          "metadata": {
            "needs_background": "light"
          }
        }
      ]
    },
    {
      "cell_type": "markdown",
      "source": [
        "**the difference in the charging and discharging rate from 4 to 3 days prior to april first is greater with devices that didn't fail yet - charging rate up to 1000 with discharging rate delta up to 2000. devices that did fail experience less fluctuations is (dis-)charging rate difference.**"
      ],
      "metadata": {
        "id": "lQ0RVu-Ewq0T"
      }
    },
    {
      "cell_type": "code",
      "source": [
        "sns.relplot(data=failed_false, x='delta_charging_rate', y='delta_discharging_rate', kind='scatter')\n",
        "plt.show()"
      ],
      "metadata": {
        "colab": {
          "base_uri": "https://localhost:8080/",
          "height": 370
        },
        "id": "9VjZvVzwvhk-",
        "outputId": "90d6cd0e-2cb4-415b-b37b-0ceccff085fd"
      },
      "execution_count": 121,
      "outputs": [
        {
          "output_type": "display_data",
          "data": {
            "text/plain": [
              "<Figure size 360x360 with 1 Axes>"
            ],
            "image/png": "[encoded data removed]"
          },
          "metadata": {
            "needs_background": "light"
          }
        }
      ]
    },
    {
      "cell_type": "code",
      "source": [
        "sns.relplot(data=failed_true, x='delta_charging_rate', y='delta_discharging_rate', kind='scatter')\n",
        "plt.show()"
      ],
      "metadata": {
        "colab": {
          "base_uri": "https://localhost:8080/",
          "height": 370
        },
        "id": "QkzrS-HWuyiP",
        "outputId": "75b59907-3053-4a9b-b5d0-467e7839427c"
      },
      "execution_count": 120,
      "outputs": [
        {
          "output_type": "display_data",
          "data": {
            "text/plain": [
              "<Figure size 360x360 with 1 Axes>"
            ],
            "image/png": "[encoded data removed]"
          },
          "metadata": {
            "needs_background": "light"
          }
        }
      ]
    },
    {
      "cell_type": "markdown",
      "source": [
        "**names of new dataframes: train (-added two columns showing differences between charging and discharging rates for lag4-lag 3, added month deployed column, modified datetime format), df_different_size**"
      ],
      "metadata": {
        "id": "0cShsaLrmra6"
      }
    },
    {
      "cell_type": "markdown",
      "source": [
        "## Additional: attempting to handle datetime format and columns - still not considered by model"
      ],
      "metadata": {
        "id": "-mv3tLbkVNBl"
      }
    },
    {
      "cell_type": "code",
      "source": [
        "#creating lists of columns we want to drop\n",
        "cols_avg_time_charging = []\n",
        "cols_avg_time_discharging = []\n",
        "for i in range(5,15): \n",
        "    col_charging = \"avg_time_charging_lag\" + str(i)\n",
        "    cols_avg_time_charging.append(col_charging)\n",
        "    col_discharging = \"avg_time_discharging_lag\" + str(i)\n",
        "    cols_avg_time_discharging.append(col_discharging)\n",
        "\n",
        "cols_charging_rate = []\n",
        "for i in range(5,8):\n",
        "    col_charging_rate = \"charging_rate_lag\" + str(i)\n",
        "    cols_charging_rate.append(col_charging_rate)\n",
        "\n",
        "cols_discharging_rate = []    \n",
        "for i in range(5,9):\n",
        "    col_discharging_rate = \"discharging_rate_lag\" + str(i)\n",
        "    cols_discharging_rate.append(col_discharging_rate)\n",
        "\n",
        "#combining them into one list\n",
        "list_of_field_names_with_nan = []\n",
        "list_of_field_names_with_nan.extend(cols_discharging_rate)\n",
        "list_of_field_names_with_nan.extend(cols_charging_rate)\n",
        "list_of_field_names_with_nan.extend(cols_avg_time_discharging)\n",
        "list_of_field_names_with_nan.extend(cols_avg_time_charging)\n",
        "\n",
        "\n",
        "#modifying the dataframe by dropping the said columns\n",
        "train = train.drop(columns=list_of_field_names_with_nan)"
      ],
      "metadata": {
        "id": "iTFgSEA_VRBC"
      },
      "execution_count": 111,
      "outputs": []
    },
    {
      "cell_type": "code",
      "source": [
        "\n",
        "\n",
        "#creating new dataframe with reordered columns for better data understanding\n",
        "new_df = train.reindex(columns=['deviceid', 'avg_volt_change_charging', 'avg_volt_change_discharging', 'max_voltage_day', \n",
        "                                'fail_7', 'charge_cycle_time_below_12', 'Date Deployed', 'Month Deployed' \n",
        "                                'avg_time_charging_lag4', 'avg_time_charging_lag3', 'avg_time_charging_lag2', 'avg_time_charging_lag1', \n",
        "                                'avg_time_discharging_lag4', 'avg_time_discharging_lag3', 'avg_time_discharging_lag2', 'avg_time_discharging_lag1', \n",
        "                                'charging_rate_lag4', 'charging_rate_lag3', \n",
        "                                'discharging_rate_lag4', 'discharging_rate_lag3',\n",
        "                                'avg_time_charging', 'avg_time_discharging', 'cycle_time', 'chargecycles', 'dischargecycles', 'piececount', 'total_off_time', 'number_times_restart'])"
      ],
      "metadata": {
        "id": "Cznvu8e5VbrO"
      },
      "execution_count": 112,
      "outputs": []
    },
    {
      "cell_type": "code",
      "source": [
        "#changing the datetime format in Date Deployed --- adding dashes to date!\n",
        "train['Date Deployed'] = pd.to_datetime(train['Date Deployed']).dt.strftime('%Y-%m-%d')\n",
        "years=[]\n",
        "months=[]\n",
        "\n",
        "for dates in train['Date Deployed']:\n",
        "    dates[1].lstrip('0')\n",
        "    dates = dates.split(\"-\")\n",
        "    year = int(dates[0])\n",
        "    month = int(dates[1])\n",
        "    years.append(year)\n",
        "    months.append(month)\n",
        "\n",
        "train['Year Deployed'] = years\n",
        "train['Month Deployed'] = months"
      ],
      "metadata": {
        "id": "BK9EUdp4VgcC"
      },
      "execution_count": 113,
      "outputs": []
    }
  ]
}