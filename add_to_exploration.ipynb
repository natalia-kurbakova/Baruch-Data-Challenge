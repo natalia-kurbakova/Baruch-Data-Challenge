{
  "nbformat": 4,
  "nbformat_minor": 0,
  "metadata": {
    "colab": {
      "name": "add-to-exploration.ipynb",
      "provenance": [],
      "authorship_tag": "ABX9TyOeee9YJoQfZyGs3qX9KupJ",
      "include_colab_link": true
    },
    "kernelspec": {
      "name": "python3",
      "display_name": "Python 3"
    },
    "language_info": {
      "name": "python"
    }
  },
  "cells": [
    {
      "cell_type": "markdown",
      "metadata": {
        "id": "view-in-github",
        "colab_type": "text"
      },
      "source": [
        "<a href=\"https://colab.research.google.com/github/natalia-kurbakova/Baruch-Data-Challenge/blob/main/add_to_exploration.ipynb\" target=\"_parent\"><img src=\"https://colab.research.google.com/assets/colab-badge.svg\" alt=\"Open In Colab\"/></a>"
      ]
    },
    {
      "cell_type": "code",
      "execution_count": 95,
      "metadata": {
        "id": "u2N-mUz_UQk-"
      },
      "outputs": [],
      "source": [
        "import numpy as np\n",
        "import pandas as pd\n",
        "import matplotlib.pyplot as plt\n",
        "import seaborn as sns\n",
        "import datetime "
      ]
    },
    {
      "cell_type": "code",
      "source": [
        "#loading data\n",
        "train = pd.read_csv(\"train updated 04132022.csv\")\n",
        "\n",
        "#set option to display columns and rows of the dataframe fully\n",
        "pd.set_option('display.max_columns', None)\n",
        "pd.set_option('display.max_rows', None)"
      ],
      "metadata": {
        "id": "cC-OfWj9U1tR"
      },
      "execution_count": 96,
      "outputs": []
    },
    {
      "cell_type": "code",
      "source": [
        "#creatig a dataframe\n",
        "train = pd.DataFrame(train)"
      ],
      "metadata": {
        "id": "uQdBvutPVEGP"
      },
      "execution_count": 97,
      "outputs": []
    },
    {
      "cell_type": "code",
      "source": [
        "train['charging_rate_lag4'] = train['charging_rate_lag4'].abs()\n",
        "train['discharging_rate_lag4'] = train['discharging_rate_lag4'].abs()\n",
        "train['discharging_rate_lag3'] = train['discharging_rate_lag3'].abs()\n",
        "train['charging_rate_lag3'] = train['charging_rate_lag3'].abs()"
      ],
      "metadata": {
        "id": "XxBEbfRfgbpC"
      },
      "execution_count": 98,
      "outputs": []
    },
    {
      "cell_type": "markdown",
      "source": [
        "# VIZUALIZATION"
      ],
      "metadata": {
        "id": "vTaOpaJ5bxEJ"
      }
    },
    {
      "cell_type": "code",
      "source": [
        "#changing the datetime format in Date Deployed --- adding dashes to date!\n",
        "train['Date Deployed'] = pd.to_datetime(train['Date Deployed']).dt.strftime('%Y-%m-%d')\n",
        "years=[]\n",
        "months=[]\n",
        "\n",
        "for dates in train['Date Deployed']:\n",
        "    dates[1].lstrip('0')\n",
        "    dates = dates.split(\"-\")\n",
        "    year = int(dates[0])\n",
        "    month = int(dates[1])\n",
        "    years.append(year)\n",
        "    months.append(month)\n",
        "\n",
        "train['Year Deployed'] = years\n",
        "train['Month Deployed'] = months"
      ],
      "metadata": {
        "id": "cou3sYmEkSBZ"
      },
      "execution_count": 99,
      "outputs": []
    },
    {
      "cell_type": "code",
      "source": [
        "#    train = train.sort_values('Date Deployed', ascending=True)"
      ],
      "metadata": {
        "id": "_Os5Gvnbkkl7"
      },
      "execution_count": 100,
      "outputs": []
    },
    {
      "cell_type": "code",
      "source": [
        "train['delta_discharging_rate'] = (train['discharging_rate_lag3'] - train['discharging_rate_lag4'])/train['discharging_rate_lag4']"
      ],
      "metadata": {
        "id": "xj88Yb9Zom42"
      },
      "execution_count": 101,
      "outputs": []
    },
    {
      "cell_type": "code",
      "source": [
        "train['delta_charging_rate'] = (train['charging_rate_lag3'] - train['charging_rate_lag4'])/train['charging_rate_lag4']"
      ],
      "metadata": {
        "id": "SD-X-6dmnLYJ"
      },
      "execution_count": 102,
      "outputs": []
    },
    {
      "cell_type": "code",
      "source": [
        "#devices that failed\n",
        "failed_true = train[train['fail_7']==1]"
      ],
      "metadata": {
        "id": "6jNtT3LFVHUm"
      },
      "execution_count": 103,
      "outputs": []
    },
    {
      "cell_type": "code",
      "source": [
        "fail_7_count = failed_true.count().max()\n",
        "fail_7_count"
      ],
      "metadata": {
        "colab": {
          "base_uri": "https://localhost:8080/"
        },
        "id": "1sH7njvSavxN",
        "outputId": "a1d4878f-4b8a-4f90-8c68-4efaf519141b"
      },
      "execution_count": 104,
      "outputs": [
        {
          "output_type": "execute_result",
          "data": {
            "text/plain": [
              "9401"
            ]
          },
          "metadata": {},
          "execution_count": 104
        }
      ]
    },
    {
      "cell_type": "code",
      "source": [
        "#devices that didn't fail yest - same size as failed_true\n",
        "failed_false = train[train['fail_7']==0].sample(n=fail_7_count)"
      ],
      "metadata": {
        "id": "33RvSeWFbE-9"
      },
      "execution_count": 105,
      "outputs": []
    },
    {
      "cell_type": "code",
      "source": [
        "df_different_size = pd.concat([failed_true,failed_false], ignore_index=True)"
      ],
      "metadata": {
        "id": "698SGyigcLN0"
      },
      "execution_count": 106,
      "outputs": []
    },
    {
      "cell_type": "code",
      "source": [
        "custom_palette1 = ['#FF6900','#00D084']\n",
        "custom_palette2 = ['#FCB900','#0693E3']"
      ],
      "metadata": {
        "id": "c5PkvpNzdLPe"
      },
      "execution_count": 107,
      "outputs": []
    },
    {
      "cell_type": "markdown",
      "source": [
        "**for failed devices, the discharging rate decreases from 4 to 3 days pior to april first - see two plots below**"
      ],
      "metadata": {
        "id": "uDCx3nX8vzn6"
      }
    },
    {
      "cell_type": "code",
      "source": [
        "sns.set_palette(custom_palette1)\n",
        "sns.relplot(data=failed_true, x='charging_rate_lag4', y='discharging_rate_lag4', kind='scatter')\n",
        "plt.show()"
      ],
      "metadata": {
        "colab": {
          "base_uri": "https://localhost:8080/",
          "height": 370
        },
        "id": "fcrFD0gNUbfV",
        "outputId": "2b372c54-2217-40cb-d252-c44403366741"
      },
      "execution_count": 118,
      "outputs": [
        {
          "output_type": "display_data",
          "data": {
            "text/plain": [
              "<Figure size 360x360 with 1 Axes>"
            ],
            "image/png": "[encoded data removed]"
          },
          "metadata": {
            "needs_background": "light"
          }
        }
      ]
    },
    {
      "cell_type": "code",
      "source": [
        "sns.relplot(data=failed_true, x='charging_rate_lag3', y='discharging_rate_lag3', kind='scatter')\n",
        "plt.show()"
      ],
      "metadata": {
        "colab": {
          "base_uri": "https://localhost:8080/",
          "height": 370
        },
        "id": "rIUXN8fUUYuP",
        "outputId": "1284edaa-24ad-4ca9-ccd7-5a4226cc99aa"
      },
      "execution_count": 119,
      "outputs": [
        {
          "output_type": "display_data",
          "data": {
            "text/plain": [
              "<Figure size 360x360 with 1 Axes>"
            ],
            "image/png": "[encoded data removed]"
          },
          "metadata": {
            "needs_background": "light"
          }
        }
      ]
    },
    {
      "cell_type": "markdown",
      "source": [
        "**the difference in the charging and discharging rate from 4 to 3 days prior to april first is greater with devices that didn't fail yet - charging rate up to 1000 with discharging rate delta up to 2000. devices that did fail experience less fluctuations is (dis-)charging rate difference.**"
      ],
      "metadata": {
        "id": "lQ0RVu-Ewq0T"
      }
    },
    {
      "cell_type": "code",
      "source": [
        "sns.relplot(data=failed_false, x='delta_charging_rate', y='delta_discharging_rate', kind='scatter')\n",
        "plt.show()"
      ],
      "metadata": {
        "colab": {
          "base_uri": "https://localhost:8080/",
          "height": 370
        },
        "id": "9VjZvVzwvhk-",
        "outputId": "90d6cd0e-2cb4-415b-b37b-0ceccff085fd"
      },
      "execution_count": 121,
      "outputs": [
        {
          "output_type": "display_data",
          "data": {
            "text/plain": [
              "<Figure size 360x360 with 1 Axes>"
            ],
            "image/png": "[encoded data removed]"
          },
          "metadata": {
            "needs_background": "light"
          }
        }
      ]
    },
    {
      "cell_type": "code",
      "source": [
        "sns.relplot(data=failed_true, x='delta_charging_rate', y='delta_discharging_rate', kind='scatter')\n",
        "plt.show()"
      ],
      "metadata": {
        "colab": {
          "base_uri": "https://localhost:8080/",
          "height": 370
        },
        "id": "QkzrS-HWuyiP",
        "outputId": "75b59907-3053-4a9b-b5d0-467e7839427c"
      },
      "execution_count": 120,
      "outputs": [
        {
          "output_type": "display_data",
          "data": {
            "text/plain": [
              "<Figure size 360x360 with 1 Axes>"
            ],
            "image/png": "[encoded data removed]"
          },
          "metadata": {
            "needs_background": "light"
          }
        }
      ]
    },
    {
      "cell_type": "markdown",
      "source": [
        "**names of new dataframes: train (-added two columns showing differences between charging and discharging rates for lag4-lag 3, added month deployed column, modified datetime format), df_different_size**"
      ],
      "metadata": {
        "id": "0cShsaLrmra6"
      }
    },
    {
      "cell_type": "markdown",
      "source": [
        "## Additional: attempting to handle datetime format and columns - still not considered by model"
      ],
      "metadata": {
        "id": "-mv3tLbkVNBl"
      }
    },
    {
      "cell_type": "code",
      "source": [
        "#creating lists of columns we want to drop\n",
        "cols_avg_time_charging = []\n",
        "cols_avg_time_discharging = []\n",
        "for i in range(5,15): \n",
        "    col_charging = \"avg_time_charging_lag\" + str(i)\n",
        "    cols_avg_time_charging.append(col_charging)\n",
        "    col_discharging = \"avg_time_discharging_lag\" + str(i)\n",
        "    cols_avg_time_discharging.append(col_discharging)\n",
        "\n",
        "cols_charging_rate = []\n",
        "for i in range(5,8):\n",
        "    col_charging_rate = \"charging_rate_lag\" + str(i)\n",
        "    cols_charging_rate.append(col_charging_rate)\n",
        "\n",
        "cols_discharging_rate = []    \n",
        "for i in range(5,9):\n",
        "    col_discharging_rate = \"discharging_rate_lag\" + str(i)\n",
        "    cols_discharging_rate.append(col_discharging_rate)\n",
        "\n",
        "#combining them into one list\n",
        "list_of_field_names_with_nan = []\n",
        "list_of_field_names_with_nan.extend(cols_discharging_rate)\n",
        "list_of_field_names_with_nan.extend(cols_charging_rate)\n",
        "list_of_field_names_with_nan.extend(cols_avg_time_discharging)\n",
        "list_of_field_names_with_nan.extend(cols_avg_time_charging)\n",
        "\n",
        "\n",
        "#modifying the dataframe by dropping the said columns\n",
        "train = train.drop(columns=list_of_field_names_with_nan)"
      ],
      "metadata": {
        "id": "iTFgSEA_VRBC"
      },
      "execution_count": 111,
      "outputs": []
    },
    {
      "cell_type": "code",
      "source": [
        "\n",
        "\n",
        "#creating new dataframe with reordered columns for better data understanding\n",
        "new_df = train.reindex(columns=['deviceid', 'avg_volt_change_charging', 'avg_volt_change_discharging', 'max_voltage_day', \n",
        "                                'fail_7', 'charge_cycle_time_below_12', 'Date Deployed', 'Month Deployed' \n",
        "                                'avg_time_charging_lag4', 'avg_time_charging_lag3', 'avg_time_charging_lag2', 'avg_time_charging_lag1', \n",
        "                                'avg_time_discharging_lag4', 'avg_time_discharging_lag3', 'avg_time_discharging_lag2', 'avg_time_discharging_lag1', \n",
        "                                'charging_rate_lag4', 'charging_rate_lag3', \n",
        "                                'discharging_rate_lag4', 'discharging_rate_lag3',\n",
        "                                'avg_time_charging', 'avg_time_discharging', 'cycle_time', 'chargecycles', 'dischargecycles', 'piececount', 'total_off_time', 'number_times_restart'])"
      ],
      "metadata": {
        "id": "Cznvu8e5VbrO"
      },
      "execution_count": 112,
      "outputs": []
    },
    {
      "cell_type": "code",
      "source": [
        "#changing the datetime format in Date Deployed --- adding dashes to date!\n",
        "train['Date Deployed'] = pd.to_datetime(train['Date Deployed']).dt.strftime('%Y-%m-%d')\n",
        "years=[]\n",
        "months=[]\n",
        "\n",
        "for dates in train['Date Deployed']:\n",
        "    dates[1].lstrip('0')\n",
        "    dates = dates.split(\"-\")\n",
        "    year = int(dates[0])\n",
        "    month = int(dates[1])\n",
        "    years.append(year)\n",
        "    months.append(month)\n",
        "\n",
        "train['Year Deployed'] = years\n",
        "train['Month Deployed'] = months"
      ],
      "metadata": {
        "id": "BK9EUdp4VgcC"
      },
      "execution_count": 113,
      "outputs": []
    }
  ]
}