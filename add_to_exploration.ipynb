{
  "nbformat": 4,
  "nbformat_minor": 0,
  "metadata": {
    "colab": {
      "name": "add-to-exploration.ipynb",
      "provenance": [],
      "authorship_tag": "ABX9TyMlJlNQMxofhJ1TsjpxYnOg",
      "include_colab_link": true
    },
    "kernelspec": {
      "name": "python3",
      "display_name": "Python 3"
    },
    "language_info": {
      "name": "python"
    }
  },
  "cells": [
    {
      "cell_type": "markdown",
      "metadata": {
        "id": "view-in-github",
        "colab_type": "text"
      },
      "source": [
        "<a href=\"https://colab.research.google.com/github/natalia-kurbakova/Baruch-Data-Challenge/blob/main/add_to_exploration.ipynb\" target=\"_parent\"><img src=\"https://colab.research.google.com/assets/colab-badge.svg\" alt=\"Open In Colab\"/></a>"
      ]
    },
    {
      "cell_type": "code",
      "execution_count": 85,
      "metadata": {
        "id": "u2N-mUz_UQk-"
      },
      "outputs": [],
      "source": [
        "import numpy as np\n",
        "import pandas as pd\n",
        "import matplotlib.pyplot as plt\n",
        "import seaborn as sns\n",
        "import datetime as dt"
      ]
    },
    {
      "cell_type": "code",
      "source": [
        "#loading data\n",
        "train = pd.read_csv(\"train updated 04132022.csv\")\n",
        "\n",
        "#set option to display columns and rows of the dataframe fully\n",
        "pd.set_option('display.max_columns', None)\n",
        "pd.set_option('display.max_rows', None)"
      ],
      "metadata": {
        "id": "cC-OfWj9U1tR"
      },
      "execution_count": 86,
      "outputs": []
    },
    {
      "cell_type": "code",
      "source": [
        "#creatig a dataframe\n",
        "train = pd.DataFrame(train)"
      ],
      "metadata": {
        "id": "uQdBvutPVEGP"
      },
      "execution_count": 87,
      "outputs": []
    },
    {
      "cell_type": "code",
      "source": [
        "train['charging_rate_lag4'] = train['charging_rate_lag4'].abs()\n",
        "train['discharging_rate_lag4'] = train['discharging_rate_lag4'].abs()\n",
        "train['discharging_rate_lag3'] = train['discharging_rate_lag3'].abs()\n",
        "train['charging_rate_lag3'] = train['charging_rate_lag3'].abs()"
      ],
      "metadata": {
        "id": "XxBEbfRfgbpC"
      },
      "execution_count": 88,
      "outputs": []
    },
    {
      "cell_type": "markdown",
      "source": [
        "# VIZUALIZATION"
      ],
      "metadata": {
        "id": "vTaOpaJ5bxEJ"
      }
    },
    {
      "cell_type": "code",
      "source": [
        "#changing the datetime format in Date Deployed --- adding dashes to date!\n",
        "train['Date Deployed'] = pd.to_datetime(train['Date Deployed']).dt.strftime('%Y-%m-%d')\n",
        "years=[]\n",
        "months=[]\n",
        "\n",
        "for dates in train['Date Deployed']:\n",
        "    dates[1].lstrip('0')\n",
        "    dates = dates.split(\"-\")\n",
        "    year = int(dates[0])\n",
        "    month = int(dates[1])\n",
        "    years.append(year)\n",
        "    months.append(month)\n",
        "\n",
        "train['Year Deployed'] = years\n",
        "train['Month Deployed'] = months"
      ],
      "metadata": {
        "id": "cou3sYmEkSBZ"
      },
      "execution_count": 89,
      "outputs": []
    },
    {
      "cell_type": "code",
      "source": [
        "# last record == april 1st 2021\n",
        "# calculate age of battery in months: 2021 - year deployed, times 12, plus 4 (april is the fourth month), substract month deployed\n",
        "train['age_of_battery'] = (12*(2021 - train['Year Deployed']) + 4) - train['Month Deployed']\n",
        "train.sample(n=5)"
      ],
      "metadata": {
        "colab": {
          "base_uri": "https://localhost:8080/",
          "height": 287
        },
        "id": "_Os5Gvnbkkl7",
        "outputId": "97214619-3ba3-4386-e966-31b6acf639da"
      },
      "execution_count": 90,
      "outputs": [
        {
          "output_type": "execute_result",
          "data": {
            "text/plain": [
              "       deviceid  avg_time_charging_lag1  avg_time_charging_lag2  \\\n",
              "3305      11275                    4.89                    4.96   \n",
              "16910     26005                    6.12                    4.78   \n",
              "16972     34643                   40.57                    6.10   \n",
              "4754      12706                   42.27                    6.13   \n",
              "14735     48516                    6.13                    4.72   \n",
              "\n",
              "       avg_time_charging_lag3  avg_time_charging_lag7  charging_rate_lag3  \\\n",
              "3305                    45.99                   27.13            0.073333   \n",
              "16910                   34.95                    4.61            0.583333   \n",
              "16972                    4.93                    5.44            0.006667   \n",
              "4754                     4.61                    4.75            0.020000   \n",
              "14735                    6.39                   44.40            0.010000   \n",
              "\n",
              "       charging_rate_lag7  avg_time_discharging_lag1  \\\n",
              "3305            -0.863333                       3.55   \n",
              "16910           -0.003333                       5.91   \n",
              "16972            0.013333                      54.57   \n",
              "4754            -0.040000                      93.66   \n",
              "14735            0.143333                       6.16   \n",
              "\n",
              "       avg_time_discharging_lag2  avg_time_discharging_lag3  \\\n",
              "3305                        7.45                      90.56   \n",
              "16910                       3.34                      55.50   \n",
              "16972                       5.52                       3.62   \n",
              "4754                        5.61                       3.88   \n",
              "14735                       4.06                       4.23   \n",
              "\n",
              "       avg_time_discharging_lag7  discharging_rate_lag3  \\\n",
              "3305                       50.22               0.076667   \n",
              "16910                       4.11               0.266667   \n",
              "16972                       6.04               0.136667   \n",
              "4754                        3.49               0.120000   \n",
              "14735                      85.06               0.246667   \n",
              "\n",
              "       discharging_rate_lag7  fail_7  charge_cycle_time_below_12  \\\n",
              "3305               -0.510000       0                        True   \n",
              "16910              -0.293333       0                       False   \n",
              "16972               0.076667       1                        True   \n",
              "4754               -0.140000       1                        True   \n",
              "14735              -0.050000       1                        True   \n",
              "\n",
              "       avg_time_charging_lag4  avg_time_discharging_lag4  \\\n",
              "3305                    43.78                      83.24   \n",
              "16910                    4.99                       3.55   \n",
              "16972                   32.89                      53.98   \n",
              "4754                     4.73                       3.61   \n",
              "14735                    5.28                       4.41   \n",
              "\n",
              "       avg_time_charging_lag5  avg_time_discharging_lag5  \\\n",
              "3305                     5.74                       4.29   \n",
              "16910                   41.25                      64.85   \n",
              "16972                   39.96                      70.73   \n",
              "4754                     4.66                       4.70   \n",
              "14735                    4.49                       4.09   \n",
              "\n",
              "       avg_time_charging_lag6  avg_time_discharging_lag6  \\\n",
              "3305                     4.49                       3.92   \n",
              "16910                    4.58                       4.23   \n",
              "16972                    4.61                       4.06   \n",
              "4754                    42.16                      62.94   \n",
              "14735                    4.95                       3.97   \n",
              "\n",
              "       avg_time_charging_lag8  avg_time_discharging_lag8  \\\n",
              "3305                     4.96                       3.35   \n",
              "16910                    7.17                       9.23   \n",
              "16972                   32.26                      66.12   \n",
              "4754                     5.00                       6.09   \n",
              "14735                    5.04                       5.88   \n",
              "\n",
              "       avg_time_charging_lag9  avg_time_discharging_lag9  \\\n",
              "3305                    30.64                      52.97   \n",
              "16910                   43.05                      73.68   \n",
              "16972                   20.79                      32.10   \n",
              "4754                     4.86                       4.36   \n",
              "14735                    5.91                       4.83   \n",
              "\n",
              "       avg_time_charging_lag10  avg_time_discharging_lag10  \\\n",
              "3305                      4.89                        3.21   \n",
              "16910                     5.00                        5.91   \n",
              "16972                    18.66                       28.17   \n",
              "4754                      6.34                        9.09   \n",
              "14735                     5.21                        5.85   \n",
              "\n",
              "       avg_time_charging_lag11  avg_time_discharging_lag11  \\\n",
              "3305                     16.19                       25.13   \n",
              "16910                     4.50                        4.11   \n",
              "16972                    34.97                       53.75   \n",
              "4754                      5.10                        6.16   \n",
              "14735                     4.52                        4.21   \n",
              "\n",
              "       avg_time_charging_lag12  avg_time_discharging_lag12  \\\n",
              "3305                     43.03                       78.16   \n",
              "16910                    23.03                       33.28   \n",
              "16972                     7.60                        9.52   \n",
              "4754                      4.85                        3.99   \n",
              "14735                     4.95                        3.64   \n",
              "\n",
              "       avg_time_charging_lag13  avg_time_discharging_lag13  \\\n",
              "3305                      5.00                        5.92   \n",
              "16910                    45.45                       70.46   \n",
              "16972                     6.10                        5.25   \n",
              "4754                     36.73                       63.76   \n",
              "14735                    35.21                       68.45   \n",
              "\n",
              "       avg_time_charging_lag14  avg_time_discharging_lag14  \\\n",
              "3305                      5.05                        3.11   \n",
              "16910                    36.31                       70.21   \n",
              "16972                     4.92                        4.33   \n",
              "4754                       NaN                         NaN   \n",
              "14735                     5.14                        5.04   \n",
              "\n",
              "       discharging_rate_lag4  discharging_rate_lag5  discharging_rate_lag6  \\\n",
              "3305                0.016667              -0.133333               3.116667   \n",
              "16910               0.073333              -0.160000              -0.986667   \n",
              "16972               2.703333              -0.100000               0.003333   \n",
              "4754                0.370000               0.016667              -0.020000   \n",
              "14735               0.003333               0.013333              -0.246667   \n",
              "\n",
              "       discharging_rate_lag8  charging_rate_lag4  charging_rate_lag5  \\\n",
              "3305               -0.013333            0.013333            0.010000   \n",
              "16910              -1.836667            0.086667           -0.043333   \n",
              "16972              -0.880000            1.086667            0.080000   \n",
              "4754                0.180000            0.266667           -0.133333   \n",
              "14735               0.003333            0.023333            0.003333   \n",
              "\n",
              "       charging_rate_lag6  chargecycles  dischargecycles  total_off_time  \\\n",
              "3305            -0.143333     73.304348        73.260870       40.565217   \n",
              "16910            0.280000     90.333333        90.111111        1.388889   \n",
              "16972           -0.016667     75.809524        75.714286       17.095238   \n",
              "4754            -0.016667    109.285714       109.214286       33.357143   \n",
              "14735            0.170000    114.875000       114.875000        3.312500   \n",
              "\n",
              "       number_times_restart  avg_volt_change_charging  \\\n",
              "3305               1.130435                361.045652   \n",
              "16910              1.000000                330.756111   \n",
              "16972              2.809524                343.053809   \n",
              "4754               5.642857                354.280714   \n",
              "14735              1.750000                354.589375   \n",
              "\n",
              "       avg_volt_change_discharging  avg_time_charging  avg_time_discharging  \\\n",
              "3305                    356.402174          18.210870             30.373478   \n",
              "16910                   328.951667          19.277222             29.597222   \n",
              "16972                   340.337143          19.268095             30.466190   \n",
              "4754                    351.499286          12.657143             19.786429   \n",
              "14735                   351.108125          10.106250             15.041250   \n",
              "\n",
              "       max_voltage_day  piececount  cycle_time LastRecord Date Deployed  \\\n",
              "3305       4169.043478   40.307692   48.584348     4/1/21    2019-11-16   \n",
              "16910      4147.666667   14.923077   48.874444     4/1/21    2019-09-25   \n",
              "16972      4155.142857   27.333333   49.734286     4/1/21    2019-09-07   \n",
              "4754       4167.142857   36.600000   32.443571     4/1/21    2019-08-21   \n",
              "14735      4159.000000   27.000000   25.147500     4/1/21    2019-09-27   \n",
              "\n",
              "       Year Deployed  Month Deployed  age_of_battery  \n",
              "3305            2019              11              17  \n",
              "16910           2019               9              19  \n",
              "16972           2019               9              19  \n",
              "4754            2019               8              20  \n",
              "14735           2019               9              19  "
            ],
            "text/html": [
              "\n",
              "  <div id=\"df-05e2c92d-e519-4ba0-8482-4e66aaf25650\">\n",
              "    <div class=\"colab-df-container\">\n",
              "      <div>\n",
              "<style scoped>\n",
              "    .dataframe tbody tr th:only-of-type {\n",
              "        vertical-align: middle;\n",
              "    }\n",
              "\n",
              "    .dataframe tbody tr th {\n",
              "        vertical-align: top;\n",
              "    }\n",
              "\n",
              "    .dataframe thead th {\n",
              "        text-align: right;\n",
              "    }\n",
              "</style>\n",
              "<table border=\"1\" class=\"dataframe\">\n",
              "  <thead>\n",
              "    <tr style=\"text-align: right;\">\n",
              "      <th></th>\n",
              "      <th>deviceid</th>\n",
              "      <th>avg_time_charging_lag1</th>\n",
              "      <th>avg_time_charging_lag2</th>\n",
              "      <th>avg_time_charging_lag3</th>\n",
              "      <th>avg_time_charging_lag7</th>\n",
              "      <th>charging_rate_lag3</th>\n",
              "      <th>charging_rate_lag7</th>\n",
              "      <th>avg_time_discharging_lag1</th>\n",
              "      <th>avg_time_discharging_lag2</th>\n",
              "      <th>avg_time_discharging_lag3</th>\n",
              "      <th>avg_time_discharging_lag7</th>\n",
              "      <th>discharging_rate_lag3</th>\n",
              "      <th>discharging_rate_lag7</th>\n",
              "      <th>fail_7</th>\n",
              "      <th>charge_cycle_time_below_12</th>\n",
              "      <th>avg_time_charging_lag4</th>\n",
              "      <th>avg_time_discharging_lag4</th>\n",
              "      <th>avg_time_charging_lag5</th>\n",
              "      <th>avg_time_discharging_lag5</th>\n",
              "      <th>avg_time_charging_lag6</th>\n",
              "      <th>avg_time_discharging_lag6</th>\n",
              "      <th>avg_time_charging_lag8</th>\n",
              "      <th>avg_time_discharging_lag8</th>\n",
              "      <th>avg_time_charging_lag9</th>\n",
              "      <th>avg_time_discharging_lag9</th>\n",
              "      <th>avg_time_charging_lag10</th>\n",
              "      <th>avg_time_discharging_lag10</th>\n",
              "      <th>avg_time_charging_lag11</th>\n",
              "      <th>avg_time_discharging_lag11</th>\n",
              "      <th>avg_time_charging_lag12</th>\n",
              "      <th>avg_time_discharging_lag12</th>\n",
              "      <th>avg_time_charging_lag13</th>\n",
              "      <th>avg_time_discharging_lag13</th>\n",
              "      <th>avg_time_charging_lag14</th>\n",
              "      <th>avg_time_discharging_lag14</th>\n",
              "      <th>discharging_rate_lag4</th>\n",
              "      <th>discharging_rate_lag5</th>\n",
              "      <th>discharging_rate_lag6</th>\n",
              "      <th>discharging_rate_lag8</th>\n",
              "      <th>charging_rate_lag4</th>\n",
              "      <th>charging_rate_lag5</th>\n",
              "      <th>charging_rate_lag6</th>\n",
              "      <th>chargecycles</th>\n",
              "      <th>dischargecycles</th>\n",
              "      <th>total_off_time</th>\n",
              "      <th>number_times_restart</th>\n",
              "      <th>avg_volt_change_charging</th>\n",
              "      <th>avg_volt_change_discharging</th>\n",
              "      <th>avg_time_charging</th>\n",
              "      <th>avg_time_discharging</th>\n",
              "      <th>max_voltage_day</th>\n",
              "      <th>piececount</th>\n",
              "      <th>cycle_time</th>\n",
              "      <th>LastRecord</th>\n",
              "      <th>Date Deployed</th>\n",
              "      <th>Year Deployed</th>\n",
              "      <th>Month Deployed</th>\n",
              "      <th>age_of_battery</th>\n",
              "    </tr>\n",
              "  </thead>\n",
              "  <tbody>\n",
              "    <tr>\n",
              "      <th>3305</th>\n",
              "      <td>11275</td>\n",
              "      <td>4.89</td>\n",
              "      <td>4.96</td>\n",
              "      <td>45.99</td>\n",
              "      <td>27.13</td>\n",
              "      <td>0.073333</td>\n",
              "      <td>-0.863333</td>\n",
              "      <td>3.55</td>\n",
              "      <td>7.45</td>\n",
              "      <td>90.56</td>\n",
              "      <td>50.22</td>\n",
              "      <td>0.076667</td>\n",
              "      <td>-0.510000</td>\n",
              "      <td>0</td>\n",
              "      <td>True</td>\n",
              "      <td>43.78</td>\n",
              "      <td>83.24</td>\n",
              "      <td>5.74</td>\n",
              "      <td>4.29</td>\n",
              "      <td>4.49</td>\n",
              "      <td>3.92</td>\n",
              "      <td>4.96</td>\n",
              "      <td>3.35</td>\n",
              "      <td>30.64</td>\n",
              "      <td>52.97</td>\n",
              "      <td>4.89</td>\n",
              "      <td>3.21</td>\n",
              "      <td>16.19</td>\n",
              "      <td>25.13</td>\n",
              "      <td>43.03</td>\n",
              "      <td>78.16</td>\n",
              "      <td>5.00</td>\n",
              "      <td>5.92</td>\n",
              "      <td>5.05</td>\n",
              "      <td>3.11</td>\n",
              "      <td>0.016667</td>\n",
              "      <td>-0.133333</td>\n",
              "      <td>3.116667</td>\n",
              "      <td>-0.013333</td>\n",
              "      <td>0.013333</td>\n",
              "      <td>0.010000</td>\n",
              "      <td>-0.143333</td>\n",
              "      <td>73.304348</td>\n",
              "      <td>73.260870</td>\n",
              "      <td>40.565217</td>\n",
              "      <td>1.130435</td>\n",
              "      <td>361.045652</td>\n",
              "      <td>356.402174</td>\n",
              "      <td>18.210870</td>\n",
              "      <td>30.373478</td>\n",
              "      <td>4169.043478</td>\n",
              "      <td>40.307692</td>\n",
              "      <td>48.584348</td>\n",
              "      <td>4/1/21</td>\n",
              "      <td>2019-11-16</td>\n",
              "      <td>2019</td>\n",
              "      <td>11</td>\n",
              "      <td>17</td>\n",
              "    </tr>\n",
              "    <tr>\n",
              "      <th>16910</th>\n",
              "      <td>26005</td>\n",
              "      <td>6.12</td>\n",
              "      <td>4.78</td>\n",
              "      <td>34.95</td>\n",
              "      <td>4.61</td>\n",
              "      <td>0.583333</td>\n",
              "      <td>-0.003333</td>\n",
              "      <td>5.91</td>\n",
              "      <td>3.34</td>\n",
              "      <td>55.50</td>\n",
              "      <td>4.11</td>\n",
              "      <td>0.266667</td>\n",
              "      <td>-0.293333</td>\n",
              "      <td>0</td>\n",
              "      <td>False</td>\n",
              "      <td>4.99</td>\n",
              "      <td>3.55</td>\n",
              "      <td>41.25</td>\n",
              "      <td>64.85</td>\n",
              "      <td>4.58</td>\n",
              "      <td>4.23</td>\n",
              "      <td>7.17</td>\n",
              "      <td>9.23</td>\n",
              "      <td>43.05</td>\n",
              "      <td>73.68</td>\n",
              "      <td>5.00</td>\n",
              "      <td>5.91</td>\n",
              "      <td>4.50</td>\n",
              "      <td>4.11</td>\n",
              "      <td>23.03</td>\n",
              "      <td>33.28</td>\n",
              "      <td>45.45</td>\n",
              "      <td>70.46</td>\n",
              "      <td>36.31</td>\n",
              "      <td>70.21</td>\n",
              "      <td>0.073333</td>\n",
              "      <td>-0.160000</td>\n",
              "      <td>-0.986667</td>\n",
              "      <td>-1.836667</td>\n",
              "      <td>0.086667</td>\n",
              "      <td>-0.043333</td>\n",
              "      <td>0.280000</td>\n",
              "      <td>90.333333</td>\n",
              "      <td>90.111111</td>\n",
              "      <td>1.388889</td>\n",
              "      <td>1.000000</td>\n",
              "      <td>330.756111</td>\n",
              "      <td>328.951667</td>\n",
              "      <td>19.277222</td>\n",
              "      <td>29.597222</td>\n",
              "      <td>4147.666667</td>\n",
              "      <td>14.923077</td>\n",
              "      <td>48.874444</td>\n",
              "      <td>4/1/21</td>\n",
              "      <td>2019-09-25</td>\n",
              "      <td>2019</td>\n",
              "      <td>9</td>\n",
              "      <td>19</td>\n",
              "    </tr>\n",
              "    <tr>\n",
              "      <th>16972</th>\n",
              "      <td>34643</td>\n",
              "      <td>40.57</td>\n",
              "      <td>6.10</td>\n",
              "      <td>4.93</td>\n",
              "      <td>5.44</td>\n",
              "      <td>0.006667</td>\n",
              "      <td>0.013333</td>\n",
              "      <td>54.57</td>\n",
              "      <td>5.52</td>\n",
              "      <td>3.62</td>\n",
              "      <td>6.04</td>\n",
              "      <td>0.136667</td>\n",
              "      <td>0.076667</td>\n",
              "      <td>1</td>\n",
              "      <td>True</td>\n",
              "      <td>32.89</td>\n",
              "      <td>53.98</td>\n",
              "      <td>39.96</td>\n",
              "      <td>70.73</td>\n",
              "      <td>4.61</td>\n",
              "      <td>4.06</td>\n",
              "      <td>32.26</td>\n",
              "      <td>66.12</td>\n",
              "      <td>20.79</td>\n",
              "      <td>32.10</td>\n",
              "      <td>18.66</td>\n",
              "      <td>28.17</td>\n",
              "      <td>34.97</td>\n",
              "      <td>53.75</td>\n",
              "      <td>7.60</td>\n",
              "      <td>9.52</td>\n",
              "      <td>6.10</td>\n",
              "      <td>5.25</td>\n",
              "      <td>4.92</td>\n",
              "      <td>4.33</td>\n",
              "      <td>2.703333</td>\n",
              "      <td>-0.100000</td>\n",
              "      <td>0.003333</td>\n",
              "      <td>-0.880000</td>\n",
              "      <td>1.086667</td>\n",
              "      <td>0.080000</td>\n",
              "      <td>-0.016667</td>\n",
              "      <td>75.809524</td>\n",
              "      <td>75.714286</td>\n",
              "      <td>17.095238</td>\n",
              "      <td>2.809524</td>\n",
              "      <td>343.053809</td>\n",
              "      <td>340.337143</td>\n",
              "      <td>19.268095</td>\n",
              "      <td>30.466190</td>\n",
              "      <td>4155.142857</td>\n",
              "      <td>27.333333</td>\n",
              "      <td>49.734286</td>\n",
              "      <td>4/1/21</td>\n",
              "      <td>2019-09-07</td>\n",
              "      <td>2019</td>\n",
              "      <td>9</td>\n",
              "      <td>19</td>\n",
              "    </tr>\n",
              "    <tr>\n",
              "      <th>4754</th>\n",
              "      <td>12706</td>\n",
              "      <td>42.27</td>\n",
              "      <td>6.13</td>\n",
              "      <td>4.61</td>\n",
              "      <td>4.75</td>\n",
              "      <td>0.020000</td>\n",
              "      <td>-0.040000</td>\n",
              "      <td>93.66</td>\n",
              "      <td>5.61</td>\n",
              "      <td>3.88</td>\n",
              "      <td>3.49</td>\n",
              "      <td>0.120000</td>\n",
              "      <td>-0.140000</td>\n",
              "      <td>1</td>\n",
              "      <td>True</td>\n",
              "      <td>4.73</td>\n",
              "      <td>3.61</td>\n",
              "      <td>4.66</td>\n",
              "      <td>4.70</td>\n",
              "      <td>42.16</td>\n",
              "      <td>62.94</td>\n",
              "      <td>5.00</td>\n",
              "      <td>6.09</td>\n",
              "      <td>4.86</td>\n",
              "      <td>4.36</td>\n",
              "      <td>6.34</td>\n",
              "      <td>9.09</td>\n",
              "      <td>5.10</td>\n",
              "      <td>6.16</td>\n",
              "      <td>4.85</td>\n",
              "      <td>3.99</td>\n",
              "      <td>36.73</td>\n",
              "      <td>63.76</td>\n",
              "      <td>NaN</td>\n",
              "      <td>NaN</td>\n",
              "      <td>0.370000</td>\n",
              "      <td>0.016667</td>\n",
              "      <td>-0.020000</td>\n",
              "      <td>0.180000</td>\n",
              "      <td>0.266667</td>\n",
              "      <td>-0.133333</td>\n",
              "      <td>-0.016667</td>\n",
              "      <td>109.285714</td>\n",
              "      <td>109.214286</td>\n",
              "      <td>33.357143</td>\n",
              "      <td>5.642857</td>\n",
              "      <td>354.280714</td>\n",
              "      <td>351.499286</td>\n",
              "      <td>12.657143</td>\n",
              "      <td>19.786429</td>\n",
              "      <td>4167.142857</td>\n",
              "      <td>36.600000</td>\n",
              "      <td>32.443571</td>\n",
              "      <td>4/1/21</td>\n",
              "      <td>2019-08-21</td>\n",
              "      <td>2019</td>\n",
              "      <td>8</td>\n",
              "      <td>20</td>\n",
              "    </tr>\n",
              "    <tr>\n",
              "      <th>14735</th>\n",
              "      <td>48516</td>\n",
              "      <td>6.13</td>\n",
              "      <td>4.72</td>\n",
              "      <td>6.39</td>\n",
              "      <td>44.40</td>\n",
              "      <td>0.010000</td>\n",
              "      <td>0.143333</td>\n",
              "      <td>6.16</td>\n",
              "      <td>4.06</td>\n",
              "      <td>4.23</td>\n",
              "      <td>85.06</td>\n",
              "      <td>0.246667</td>\n",
              "      <td>-0.050000</td>\n",
              "      <td>1</td>\n",
              "      <td>True</td>\n",
              "      <td>5.28</td>\n",
              "      <td>4.41</td>\n",
              "      <td>4.49</td>\n",
              "      <td>4.09</td>\n",
              "      <td>4.95</td>\n",
              "      <td>3.97</td>\n",
              "      <td>5.04</td>\n",
              "      <td>5.88</td>\n",
              "      <td>5.91</td>\n",
              "      <td>4.83</td>\n",
              "      <td>5.21</td>\n",
              "      <td>5.85</td>\n",
              "      <td>4.52</td>\n",
              "      <td>4.21</td>\n",
              "      <td>4.95</td>\n",
              "      <td>3.64</td>\n",
              "      <td>35.21</td>\n",
              "      <td>68.45</td>\n",
              "      <td>5.14</td>\n",
              "      <td>5.04</td>\n",
              "      <td>0.003333</td>\n",
              "      <td>0.013333</td>\n",
              "      <td>-0.246667</td>\n",
              "      <td>0.003333</td>\n",
              "      <td>0.023333</td>\n",
              "      <td>0.003333</td>\n",
              "      <td>0.170000</td>\n",
              "      <td>114.875000</td>\n",
              "      <td>114.875000</td>\n",
              "      <td>3.312500</td>\n",
              "      <td>1.750000</td>\n",
              "      <td>354.589375</td>\n",
              "      <td>351.108125</td>\n",
              "      <td>10.106250</td>\n",
              "      <td>15.041250</td>\n",
              "      <td>4159.000000</td>\n",
              "      <td>27.000000</td>\n",
              "      <td>25.147500</td>\n",
              "      <td>4/1/21</td>\n",
              "      <td>2019-09-27</td>\n",
              "      <td>2019</td>\n",
              "      <td>9</td>\n",
              "      <td>19</td>\n",
              "    </tr>\n",
              "  </tbody>\n",
              "</table>\n",
              "</div>\n",
              "      <button class=\"colab-df-convert\" onclick=\"convertToInteractive('df-05e2c92d-e519-4ba0-8482-4e66aaf25650')\"\n",
              "              title=\"Convert this dataframe to an interactive table.\"\n",
              "              style=\"display:none;\">\n",
              "        \n",
              "  <svg xmlns=\"http://www.w3.org/2000/svg\" height=\"24px\"viewBox=\"0 0 24 24\"\n",
              "       width=\"24px\">\n",
              "    <path d=\"M0 0h24v24H0V0z\" fill=\"none\"/>\n",
              "    <path d=\"M18.56 5.44l.94 2.06.94-2.06 2.06-.94-2.06-.94-.94-2.06-.94 2.06-2.06.94zm-11 1L8.5 8.5l.94-2.06 2.06-.94-2.06-.94L8.5 2.5l-.94 2.06-2.06.94zm10 10l.94 2.06.94-2.06 2.06-.94-2.06-.94-.94-2.06-.94 2.06-2.06.94z\"/><path d=\"M17.41 7.96l-1.37-1.37c-.4-.4-.92-.59-1.43-.59-.52 0-1.04.2-1.43.59L10.3 9.45l-7.72 7.72c-.78.78-.78 2.05 0 2.83L4 21.41c.39.39.9.59 1.41.59.51 0 1.02-.2 1.41-.59l7.78-7.78 2.81-2.81c.8-.78.8-2.07 0-2.86zM5.41 20L4 18.59l7.72-7.72 1.47 1.35L5.41 20z\"/>\n",
              "  </svg>\n",
              "      </button>\n",
              "      \n",
              "  <style>\n",
              "    .colab-df-container {\n",
              "      display:flex;\n",
              "      flex-wrap:wrap;\n",
              "      gap: 12px;\n",
              "    }\n",
              "\n",
              "    .colab-df-convert {\n",
              "      background-color: #E8F0FE;\n",
              "      border: none;\n",
              "      border-radius: 50%;\n",
              "      cursor: pointer;\n",
              "      display: none;\n",
              "      fill: #1967D2;\n",
              "      height: 32px;\n",
              "      padding: 0 0 0 0;\n",
              "      width: 32px;\n",
              "    }\n",
              "\n",
              "    .colab-df-convert:hover {\n",
              "      background-color: #E2EBFA;\n",
              "      box-shadow: 0px 1px 2px rgba(60, 64, 67, 0.3), 0px 1px 3px 1px rgba(60, 64, 67, 0.15);\n",
              "      fill: #174EA6;\n",
              "    }\n",
              "\n",
              "    [theme=dark] .colab-df-convert {\n",
              "      background-color: #3B4455;\n",
              "      fill: #D2E3FC;\n",
              "    }\n",
              "\n",
              "    [theme=dark] .colab-df-convert:hover {\n",
              "      background-color: #434B5C;\n",
              "      box-shadow: 0px 1px 3px 1px rgba(0, 0, 0, 0.15);\n",
              "      filter: drop-shadow(0px 1px 2px rgba(0, 0, 0, 0.3));\n",
              "      fill: #FFFFFF;\n",
              "    }\n",
              "  </style>\n",
              "\n",
              "      <script>\n",
              "        const buttonEl =\n",
              "          document.querySelector('#df-05e2c92d-e519-4ba0-8482-4e66aaf25650 button.colab-df-convert');\n",
              "        buttonEl.style.display =\n",
              "          google.colab.kernel.accessAllowed ? 'block' : 'none';\n",
              "\n",
              "        async function convertToInteractive(key) {\n",
              "          const element = document.querySelector('#df-05e2c92d-e519-4ba0-8482-4e66aaf25650');\n",
              "          const dataTable =\n",
              "            await google.colab.kernel.invokeFunction('convertToInteractive',\n",
              "                                                     [key], {});\n",
              "          if (!dataTable) return;\n",
              "\n",
              "          const docLinkHtml = 'Like what you see? Visit the ' +\n",
              "            '<a target=\"_blank\" href=https://colab.research.google.com/notebooks/data_table.ipynb>data table notebook</a>'\n",
              "            + ' to learn more about interactive tables.';\n",
              "          element.innerHTML = '';\n",
              "          dataTable['output_type'] = 'display_data';\n",
              "          await google.colab.output.renderOutput(dataTable, element);\n",
              "          const docLink = document.createElement('div');\n",
              "          docLink.innerHTML = docLinkHtml;\n",
              "          element.appendChild(docLink);\n",
              "        }\n",
              "      </script>\n",
              "    </div>\n",
              "  </div>\n",
              "  "
            ]
          },
          "metadata": {},
          "execution_count": 90
        }
      ]
    },
    {
      "cell_type": "code",
      "source": [
        "train['delta_discharging_rate'] = (train['discharging_rate_lag3'] - train['discharging_rate_lag4'])/train['discharging_rate_lag4']"
      ],
      "metadata": {
        "id": "xj88Yb9Zom42"
      },
      "execution_count": 91,
      "outputs": []
    },
    {
      "cell_type": "code",
      "source": [
        "train['delta_charging_rate'] = (train['charging_rate_lag3'] - train['charging_rate_lag4'])/train['charging_rate_lag4']"
      ],
      "metadata": {
        "id": "SD-X-6dmnLYJ"
      },
      "execution_count": 92,
      "outputs": []
    },
    {
      "cell_type": "code",
      "source": [
        "#devices that failed\n",
        "failed_true = train[train['fail_7']==1]"
      ],
      "metadata": {
        "id": "6jNtT3LFVHUm"
      },
      "execution_count": 93,
      "outputs": []
    },
    {
      "cell_type": "code",
      "source": [
        "fail_7_count = failed_true.count().max()\n",
        "fail_7_count"
      ],
      "metadata": {
        "colab": {
          "base_uri": "https://localhost:8080/"
        },
        "id": "1sH7njvSavxN",
        "outputId": "1fba1013-d41d-4f23-8f0f-11b34ac4a85d"
      },
      "execution_count": 94,
      "outputs": [
        {
          "output_type": "execute_result",
          "data": {
            "text/plain": [
              "9401"
            ]
          },
          "metadata": {},
          "execution_count": 94
        }
      ]
    },
    {
      "cell_type": "code",
      "source": [
        "age_categories = train['age_of_battery'].unique()\n",
        "age_categories"
      ],
      "metadata": {
        "colab": {
          "base_uri": "https://localhost:8080/"
        },
        "id": "pHZhq4_vYTi7",
        "outputId": "e624f682-ed7a-4c35-efd8-808b345321b5"
      },
      "execution_count": 95,
      "outputs": [
        {
          "output_type": "execute_result",
          "data": {
            "text/plain": [
              "array([18, 19, 17, 20, 16, 15, 14])"
            ]
          },
          "metadata": {},
          "execution_count": 95
        }
      ]
    },
    {
      "cell_type": "code",
      "source": [
        "sns.set_palette('RdBu_r')\n",
        "sns.countplot(data=train, x='age_of_battery')"
      ],
      "metadata": {
        "colab": {
          "base_uri": "https://localhost:8080/",
          "height": 297
        },
        "id": "JUVo_22ubBV5",
        "outputId": "fc20759e-0d08-4adb-9f8d-74d5f9b0aa4b"
      },
      "execution_count": 96,
      "outputs": [
        {
          "output_type": "execute_result",
          "data": {
            "text/plain": [
              "<matplotlib.axes._subplots.AxesSubplot at 0x7fbcd78a9d10>"
            ]
          },
          "metadata": {},
          "execution_count": 96
        },
        {
          "output_type": "display_data",
          "data": {
            "text/plain": [
              "<Figure size 432x288 with 1 Axes>"
            ],
            "image/png": "[encoded data removed]"
          },
          "metadata": {
            "needs_background": "light"
          }
        }
      ]
    },
    {
      "cell_type": "code",
      "source": [
        "sns.countplot(data=failed_true, x='age_of_battery')\n",
        "plt.show()"
      ],
      "metadata": {
        "colab": {
          "base_uri": "https://localhost:8080/",
          "height": 280
        },
        "id": "OLQrsfdoWcER",
        "outputId": "a5526fbb-d56c-4c1f-f837-2038872be661"
      },
      "execution_count": 97,
      "outputs": [
        {
          "output_type": "display_data",
          "data": {
            "text/plain": [
              "<Figure size 432x288 with 1 Axes>"
            ],
            "image/png": "[encoded data removed]"
          },
          "metadata": {
            "needs_background": "light"
          }
        }
      ]
    },
    {
      "cell_type": "code",
      "source": [
        "sns.countplot(data=train, x='age_of_battery', hue='fail_7')"
      ],
      "metadata": {
        "colab": {
          "base_uri": "https://localhost:8080/",
          "height": 298
        },
        "id": "H9goxa0dew-i",
        "outputId": "8e2f53ba-7c1c-4a4a-b390-60130a0c8d43"
      },
      "execution_count": 98,
      "outputs": [
        {
          "output_type": "execute_result",
          "data": {
            "text/plain": [
              "<matplotlib.axes._subplots.AxesSubplot at 0x7fbcd9570390>"
            ]
          },
          "metadata": {},
          "execution_count": 98
        },
        {
          "output_type": "display_data",
          "data": {
            "text/plain": [
              "<Figure size 432x288 with 1 Axes>"
            ],
            "image/png": "[encoded data removed]"
          },
          "metadata": {
            "needs_background": "light"
          }
        }
      ]
    },
    {
      "cell_type": "code",
      "source": [
        "#devices that didn't fail yest - same size as failed_true\n",
        "failed_false = train[train['fail_7']==0].sample(n=fail_7_count)"
      ],
      "metadata": {
        "id": "33RvSeWFbE-9"
      },
      "execution_count": 99,
      "outputs": []
    },
    {
      "cell_type": "code",
      "source": [
        "df_different_size = pd.concat([failed_true,failed_false], ignore_index=True)"
      ],
      "metadata": {
        "id": "698SGyigcLN0"
      },
      "execution_count": 100,
      "outputs": []
    },
    {
      "cell_type": "code",
      "source": [
        "abnormal_cycle_time = train[train['charge_cycle_time_below_12']==True]\n",
        "normal_cycle_time = train[train['charge_cycle_time_below_12']==False]\n",
        "\n",
        "abnormal_cycle_time_failed = abnormal_cycle_time[abnormal_cycle_time['fail_7']==1]\n",
        "#abnormal_cycle_time_failed.sample(n=15)\n",
        "#abnormal_cycle_time.groupby('fail_7').count()\n",
        "#normal_cycle_time.groupby('fail_7').count()"
      ],
      "metadata": {
        "id": "rRk_ZW2GdLAi"
      },
      "execution_count": 101,
      "outputs": []
    },
    {
      "cell_type": "code",
      "source": [
        "sns.countplot(data=abnormal_cycle_time, x='age_of_battery')\n",
        "plt.show()"
      ],
      "metadata": {
        "colab": {
          "base_uri": "https://localhost:8080/",
          "height": 280
        },
        "id": "0VPwaFGUdfAF",
        "outputId": "5ea1f13b-0002-4539-89a6-b95949f1c027"
      },
      "execution_count": 102,
      "outputs": [
        {
          "output_type": "display_data",
          "data": {
            "text/plain": [
              "<Figure size 432x288 with 1 Axes>"
            ],
            "image/png": "[encoded data removed]"
          },
          "metadata": {
            "needs_background": "light"
          }
        }
      ]
    },
    {
      "cell_type": "code",
      "source": [
        "sns.countplot(data=abnormal_cycle_time_failed, x='age_of_battery')\n",
        "plt.show()"
      ],
      "metadata": {
        "colab": {
          "base_uri": "https://localhost:8080/",
          "height": 280
        },
        "id": "1VNnM1WndetV",
        "outputId": "e22a47ac-3edf-46aa-9a71-418fc772ed92"
      },
      "execution_count": 103,
      "outputs": [
        {
          "output_type": "display_data",
          "data": {
            "text/plain": [
              "<Figure size 432x288 with 1 Axes>"
            ],
            "image/png": "[encoded data removed]"
          },
          "metadata": {
            "needs_background": "light"
          }
        }
      ]
    },
    {
      "cell_type": "code",
      "source": [
        "sns.countplot(data=abnormal_cycle_time, x='age_of_battery', hue='fail_7')\n",
        "plt.show()"
      ],
      "metadata": {
        "colab": {
          "base_uri": "https://localhost:8080/",
          "height": 280
        },
        "id": "7T8cWSy2e43N",
        "outputId": "688c89aa-7686-4a9c-bf10-ae3bc323d5c4"
      },
      "execution_count": 104,
      "outputs": [
        {
          "output_type": "display_data",
          "data": {
            "text/plain": [
              "<Figure size 432x288 with 1 Axes>"
            ],
            "image/png": "[encoded data removed]"
          },
          "metadata": {
            "needs_background": "light"
          }
        }
      ]
    },
    {
      "cell_type": "code",
      "source": [
        "custom_palette1 = ['#FF6900','#00D084']\n",
        "custom_palette2 = ['#FCB900','#0693E3']"
      ],
      "metadata": {
        "id": "c5PkvpNzdLPe"
      },
      "execution_count": 105,
      "outputs": []
    },
    {
      "cell_type": "markdown",
      "source": [
        "**for failed devices, the discharging rate decreases from 4 to 3 days pior to april first - see two plots below**"
      ],
      "metadata": {
        "id": "uDCx3nX8vzn6"
      }
    },
    {
      "cell_type": "code",
      "source": [
        "sns.set_palette(custom_palette1)\n",
        "sns.relplot(data=failed_true, x='charging_rate_lag4', y='discharging_rate_lag4', kind='scatter')\n",
        "plt.show()"
      ],
      "metadata": {
        "colab": {
          "base_uri": "https://localhost:8080/",
          "height": 370
        },
        "id": "fcrFD0gNUbfV",
        "outputId": "63e3bf15-8f1a-4927-9061-e3a6e4a64e9b"
      },
      "execution_count": 106,
      "outputs": [
        {
          "output_type": "display_data",
          "data": {
            "text/plain": [
              "<Figure size 360x360 with 1 Axes>"
            ],
            "image/png": "[encoded data removed]"
          },
          "metadata": {
            "needs_background": "light"
          }
        }
      ]
    },
    {
      "cell_type": "code",
      "source": [
        "sns.relplot(data=failed_true, x='charging_rate_lag3', y='discharging_rate_lag3', kind='scatter')\n",
        "plt.show()"
      ],
      "metadata": {
        "colab": {
          "base_uri": "https://localhost:8080/",
          "height": 370
        },
        "id": "rIUXN8fUUYuP",
        "outputId": "836eef35-1951-448b-c4b2-108c40579518"
      },
      "execution_count": 107,
      "outputs": [
        {
          "output_type": "display_data",
          "data": {
            "text/plain": [
              "<Figure size 360x360 with 1 Axes>"
            ],
            "image/png": "[encoded data removed]"
          },
          "metadata": {
            "needs_background": "light"
          }
        }
      ]
    },
    {
      "cell_type": "markdown",
      "source": [
        "**the difference in the charging and discharging rate from 4 to 3 days prior to april first is greater with devices that didn't fail yet - charging rate up to 1000 with discharging rate delta up to 2000. devices that did fail experience less fluctuations is (dis-)charging rate difference.**"
      ],
      "metadata": {
        "id": "lQ0RVu-Ewq0T"
      }
    },
    {
      "cell_type": "code",
      "source": [
        "sns.relplot(data=failed_false, x='delta_charging_rate', y='delta_discharging_rate', kind='scatter')\n",
        "plt.show()"
      ],
      "metadata": {
        "colab": {
          "base_uri": "https://localhost:8080/",
          "height": 370
        },
        "id": "9VjZvVzwvhk-",
        "outputId": "b85224ff-1e03-4b9e-d3e3-070168be47ac"
      },
      "execution_count": 108,
      "outputs": [
        {
          "output_type": "display_data",
          "data": {
            "text/plain": [
              "<Figure size 360x360 with 1 Axes>"
            ],
            "image/png": "[encoded data removed]"
          },
          "metadata": {
            "needs_background": "light"
          }
        }
      ]
    },
    {
      "cell_type": "code",
      "source": [
        "sns.relplot(data=failed_true, x='delta_charging_rate', y='delta_discharging_rate', kind='scatter')\n",
        "plt.show()"
      ],
      "metadata": {
        "colab": {
          "base_uri": "https://localhost:8080/",
          "height": 370
        },
        "id": "QkzrS-HWuyiP",
        "outputId": "19c3f3ec-8694-45e3-8b10-bb7296b018ca"
      },
      "execution_count": 109,
      "outputs": [
        {
          "output_type": "display_data",
          "data": {
            "text/plain": [
              "<Figure size 360x360 with 1 Axes>"
            ],
            "image/png": "[encoded data removed]"
          },
          "metadata": {
            "needs_background": "light"
          }
        }
      ]
    },
    {
      "cell_type": "markdown",
      "source": [
        "*names of new dataframes: \n",
        "train (-added columns: showing differences between charging and discharging rates for lag4-lag 3, month deployed + year deployed columns, age of battery in months, modified datetime format), \n",
        "new_df, \n",
        "abnormal_cycle_time, \n",
        "normal_cycle_time, \n",
        "abnormal_cycle_time_failed, \n",
        "df_different_size*"
      ],
      "metadata": {
        "id": "0cShsaLrmra6"
      }
    },
    {
      "cell_type": "markdown",
      "source": [
        "## Additional: attempting to handle datetime format and columns - still not considered by model"
      ],
      "metadata": {
        "id": "-mv3tLbkVNBl"
      }
    },
    {
      "cell_type": "code",
      "source": [
        "#creating lists of columns we want to drop\n",
        "cols_avg_time_charging = []\n",
        "cols_avg_time_discharging = []\n",
        "for i in range(5,15): \n",
        "    col_charging = \"avg_time_charging_lag\" + str(i)\n",
        "    cols_avg_time_charging.append(col_charging)\n",
        "    col_discharging = \"avg_time_discharging_lag\" + str(i)\n",
        "    cols_avg_time_discharging.append(col_discharging)\n",
        "\n",
        "cols_charging_rate = []\n",
        "for i in range(5,8):\n",
        "    col_charging_rate = \"charging_rate_lag\" + str(i)\n",
        "    cols_charging_rate.append(col_charging_rate)\n",
        "\n",
        "cols_discharging_rate = []    \n",
        "for i in range(5,9):\n",
        "    col_discharging_rate = \"discharging_rate_lag\" + str(i)\n",
        "    cols_discharging_rate.append(col_discharging_rate)\n",
        "\n",
        "#combining them into one list\n",
        "list_of_field_names_with_nan = []\n",
        "list_of_field_names_with_nan.extend(cols_discharging_rate)\n",
        "list_of_field_names_with_nan.extend(cols_charging_rate)\n",
        "list_of_field_names_with_nan.extend(cols_avg_time_discharging)\n",
        "list_of_field_names_with_nan.extend(cols_avg_time_charging)\n",
        "\n",
        "\n",
        "#modifying the dataframe by dropping the said columns\n",
        "train = train.drop(columns=list_of_field_names_with_nan)"
      ],
      "metadata": {
        "id": "iTFgSEA_VRBC"
      },
      "execution_count": 110,
      "outputs": []
    },
    {
      "cell_type": "code",
      "source": [
        "\n",
        "#creating new dataframe with reordered columns for better data understanding\n",
        "new_df = train.reindex(columns=['deviceid', 'avg_volt_change_charging', 'avg_volt_change_discharging', 'max_voltage_day', \n",
        "                                'fail_7', 'charge_cycle_time_below_12', 'age_of_battery', 'Date Deployed', 'Year Deployed', 'Month Deployed' \n",
        "                                'avg_time_charging_lag4', 'avg_time_charging_lag3', 'avg_time_charging_lag2', 'avg_time_charging_lag1', \n",
        "                                'avg_time_discharging_lag4', 'avg_time_discharging_lag3', 'avg_time_discharging_lag2', 'avg_time_discharging_lag1', \n",
        "                                'charging_rate_lag4', 'charging_rate_lag3', \n",
        "                                'discharging_rate_lag4', 'discharging_rate_lag3',\n",
        "                                'avg_time_charging', 'avg_time_discharging', 'cycle_time', 'chargecycles', 'dischargecycles', 'piececount', 'total_off_time', 'number_times_restart'])"
      ],
      "metadata": {
        "id": "Cznvu8e5VbrO"
      },
      "execution_count": 111,
      "outputs": []
    },
    {
      "cell_type": "code",
      "source": [
        "'''\n",
        "#changing the datetime format in Date Deployed --- adding dashes to date!\n",
        "train['Date Deployed'] = pd.to_datetime(train['Date Deployed']).dt.strftime('%Y-%m-%d')\n",
        "years=[]\n",
        "months=[]\n",
        "\n",
        "for dates in train['Date Deployed']:\n",
        "    dates[1].lstrip('0')\n",
        "    dates = dates.split(\"-\")\n",
        "    year = int(dates[0])\n",
        "    month = int(dates[1])\n",
        "    years.append(year)\n",
        "    months.append(month)\n",
        "\n",
        "train['Year Deployed'] = years\n",
        "train['Month Deployed'] = months\n",
        "'''"
      ],
      "metadata": {
        "colab": {
          "base_uri": "https://localhost:8080/",
          "height": 70
        },
        "id": "BK9EUdp4VgcC",
        "outputId": "a7196cf3-22c9-4f36-d145-a56eb92699c4"
      },
      "execution_count": 112,
      "outputs": [
        {
          "output_type": "execute_result",
          "data": {
            "text/plain": [
              "'\\n#changing the datetime format in Date Deployed --- adding dashes to date!\\ntrain[\\'Date Deployed\\'] = pd.to_datetime(train[\\'Date Deployed\\']).dt.strftime(\\'%Y-%m-%d\\')\\nyears=[]\\nmonths=[]\\n\\nfor dates in train[\\'Date Deployed\\']:\\n    dates[1].lstrip(\\'0\\')\\n    dates = dates.split(\"-\")\\n    year = int(dates[0])\\n    month = int(dates[1])\\n    years.append(year)\\n    months.append(month)\\n\\ntrain[\\'Year Deployed\\'] = years\\ntrain[\\'Month Deployed\\'] = months\\n'"
            ],
            "application/vnd.google.colaboratory.intrinsic+json": {
              "type": "string"
            }
          },
          "metadata": {},
          "execution_count": 112
        }
      ]
    }
  ]
}