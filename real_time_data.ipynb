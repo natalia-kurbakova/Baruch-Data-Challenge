{
  "nbformat": 4,
  "nbformat_minor": 0,
  "metadata": {
    "colab": {
      "provenance": [],
      "include_colab_link": true
    },
    "kernelspec": {
      "name": "python3",
      "display_name": "Python 3"
    },
    "language_info": {
      "name": "python"
    }
  },
  "cells": [
    {
      "cell_type": "markdown",
      "metadata": {
        "id": "view-in-github",
        "colab_type": "text"
      },
      "source": [
        "<a href=\"https://colab.research.google.com/github/natalia-kurbakova/Baruch-Data-Challenge/blob/main/real_time_data.ipynb\" target=\"_parent\"><img src=\"https://colab.research.google.com/assets/colab-badge.svg\" alt=\"Open In Colab\"/></a>"
      ]
    },
    {
      "cell_type": "markdown",
      "source": [
        "# Code Story\n"
      ],
      "metadata": {
        "id": "PXo-KAZP91B4"
      }
    },
    {
      "cell_type": "code",
      "source": [
        "import boto3\n",
        "import urllib.request\n",
        "import json\n",
        "import datetime\n",
        "\n",
        "s3 = boto3.client(service_name = 's3')\n",
        "\n",
        "def lambda_handler(event, context):\n",
        "    s3Bucket = 'citibikejsonfiles'\n",
        "\n",
        "    url = \"https://gbfs.citibikenyc.com/gbfs/en/station_status.json\"\n",
        "    url2 = \"https://gbfs.citibikenyc.com/gbfs/en/station_information.json\"\n",
        "    try:\n",
        "        responseStationStatus = urllib.request.urlopen(url)\n",
        "        responseStationInformation = urllib.request.urlopen(url2)\n",
        "    except Exception as e:\n",
        "        print(f'Error while fetching data: {e}')\n",
        "        return e\n",
        "    try:\n",
        "        dataStationStatus = json.loads(responseStationStatus.read().decode('utf-8'))\n",
        "        dataStationInformation = json.loads(responseStationInformation.read().decode('utf-8'))\n",
        "    except Exception as e:\n",
        "        print(f'Error while parsing data: {e}')\n",
        "        return e\n",
        "\n",
        "    jsonFiles = {\"dataStationStatus\" : dataStationStatus, \"dataStationInformation\" : dataStationInformation}\n",
        "\n",
        "    for i in jsonFiles:\n",
        "        filename = i + \" \" + str(datetime.datetime.utcnow()) + \".json\"\n",
        "        json_data = json.dumps(jsonFiles[i])\n",
        "        try:\n",
        "            s3.put_object(Bucket=s3Bucket, Key=filename, Body=json_data)\n",
        "        except Exception as e:\n",
        "            print(f'Error while uploading data: {e}')\n",
        "            return e\n",
        "            \n",
        "    print(\"Success! \" + str(datetime.datetime.utcnow()))"
      ],
      "metadata": {
        "id": "ZaYTos-0g1Hz"
      },
      "execution_count": null,
      "outputs": []
    }
  ]
}